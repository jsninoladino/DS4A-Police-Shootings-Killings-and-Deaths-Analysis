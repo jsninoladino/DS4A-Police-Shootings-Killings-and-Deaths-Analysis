{
 "cells": [
  {
   "cell_type": "code",
   "execution_count": 2,
   "metadata": {},
   "outputs": [],
   "source": [
    "import pandas as pd\n",
    "import numpy as np\n",
    "import matplotlib.pyplot as plt\n",
    "import seaborn as sns\n",
    "import datetime\n",
    "from bs4 import BeautifulSoup\n",
    "sns.set_style('whitegrid')"
   ]
  },
  {
   "cell_type": "markdown",
   "metadata": {},
   "source": [
    "# Civilian Deaths"
   ]
  },
  {
   "cell_type": "markdown",
   "metadata": {},
   "source": [
    "## Fatal Encounters Dataset"
   ]
  },
  {
   "cell_type": "markdown",
   "metadata": {},
   "source": [
    "Names and descriptive statistics for citizens killed by police. Updated as of 8/2020.<br>\n",
    "Source: Fatal Encounters, fatalencounters.org"
   ]
  },
  {
   "cell_type": "code",
   "execution_count": 2,
   "metadata": {},
   "outputs": [
    {
     "output_type": "execute_result",
     "data": {
      "text/plain": [
       "   Unique ID         Subject's name Subject's age Subject's gender  \\\n",
       "0    25746.0        Samuel H. Knapp            17             Male   \n",
       "1    25747.0         Mark A. Horton            21             Male   \n",
       "2    25748.0  Phillip A. Blurbridge            19             Male   \n",
       "3    25749.0             Mark Ortiz            23             Male   \n",
       "4        1.0  LaTanya Janelle McCoy            24           Female   \n",
       "\n",
       "            Subject's race Subject's race with imputations  \\\n",
       "0  European-American/White         European-American/White   \n",
       "1   African-American/Black          African-American/Black   \n",
       "2   African-American/Black          African-American/Black   \n",
       "3          Hispanic/Latino                 Hispanic/Latino   \n",
       "4   African-American/Black          African-American/Black   \n",
       "\n",
       "  Imputation probability URL of image of deceased  \\\n",
       "0            Not imputed                      NaN   \n",
       "1            Not imputed                      NaN   \n",
       "2            Not imputed                      NaN   \n",
       "3            Not imputed                      NaN   \n",
       "4            Not imputed                      NaN   \n",
       "\n",
       "  Date of injury resulting in death (month/day/year)  \\\n",
       "0                                         2000-01-01   \n",
       "1                                         2000-01-01   \n",
       "2                                         2000-01-01   \n",
       "3                                         2000-01-01   \n",
       "4                                         2000-01-02   \n",
       "\n",
       "  Location of injury (address)  ...  \\\n",
       "0           27898-27804 US-101  ...   \n",
       "1              Davison Freeway  ...   \n",
       "2              Davison Freeway  ...   \n",
       "3              600 W Cherry Ln  ...   \n",
       "4         5700 block Mack Road  ...   \n",
       "\n",
       "  A brief description of the circumstances surrounding the death  \\\n",
       "0  Samuel Knapp was allegedly driving a stolen ve...               \n",
       "1  Two Detroit men killed when their car crashed ...               \n",
       "2  Two Detroit men killed when their car crashed ...               \n",
       "3  A motorcycle was allegedly being driven errati...               \n",
       "4  LaTanya Janelle McCoy's car was struck from be...               \n",
       "\n",
       "  Dispositions/Exclusions INTERNAL USE, NOT FOR ANALYSIS  \\\n",
       "0                                         Unreported       \n",
       "1                                         Unreported       \n",
       "2                                         Unreported       \n",
       "3                                         Unreported       \n",
       "4                                            Unknown       \n",
       "\n",
       "   Intentional Use of Force (Developing)  \\\n",
       "0                                Pursuit   \n",
       "1                                Pursuit   \n",
       "2                                Pursuit   \n",
       "3                                Pursuit   \n",
       "4                                Pursuit   \n",
       "\n",
       "  Link to news article or photo of official document  \\\n",
       "0  https://drive.google.com/file/d/10DisrV8K5ReP1...   \n",
       "1  https://drive.google.com/file/d/1-nK-RohgiM-tZ...   \n",
       "2  https://drive.google.com/file/d/1-nK-RohgiM-tZ...   \n",
       "3  https://drive.google.com/file/d/1qAEefRjX_aTtC...   \n",
       "4  http://www.recordnet.com/article/20000110/A_NE...   \n",
       "\n",
       "  Symptoms of mental illness? INTERNAL USE, NOT FOR ANALYSIS  Video  \\\n",
       "0                                                 No            NaN   \n",
       "1                                                 No            NaN   \n",
       "2                                                 No            NaN   \n",
       "3                                                 No            NaN   \n",
       "4                                                 No            NaN   \n",
       "\n",
       "                                    Date&Description Unique ID formula  \\\n",
       "0  1/1/2000: Samuel Knapp was allegedly driving a...               NaN   \n",
       "1  1/1/2000: Two Detroit men killed when their ca...               NaN   \n",
       "2  1/1/2000: Two Detroit men killed when their ca...               NaN   \n",
       "3  1/1/2000: A motorcycle was allegedly being dri...               NaN   \n",
       "4  1/2/2000: LaTanya Janelle McCoy's car was stru...               NaN   \n",
       "\n",
       "  Unique identifier (redundant) Date (Year)  \n",
       "0                       25746.0        2000  \n",
       "1                       25747.0        2000  \n",
       "2                       25748.0        2000  \n",
       "3                       25749.0        2000  \n",
       "4                           1.0        2000  \n",
       "\n",
       "[5 rows x 29 columns]"
      ],
      "text/html": "<div>\n<style scoped>\n    .dataframe tbody tr th:only-of-type {\n        vertical-align: middle;\n    }\n\n    .dataframe tbody tr th {\n        vertical-align: top;\n    }\n\n    .dataframe thead th {\n        text-align: right;\n    }\n</style>\n<table border=\"1\" class=\"dataframe\">\n  <thead>\n    <tr style=\"text-align: right;\">\n      <th></th>\n      <th>Unique ID</th>\n      <th>Subject's name</th>\n      <th>Subject's age</th>\n      <th>Subject's gender</th>\n      <th>Subject's race</th>\n      <th>Subject's race with imputations</th>\n      <th>Imputation probability</th>\n      <th>URL of image of deceased</th>\n      <th>Date of injury resulting in death (month/day/year)</th>\n      <th>Location of injury (address)</th>\n      <th>...</th>\n      <th>A brief description of the circumstances surrounding the death</th>\n      <th>Dispositions/Exclusions INTERNAL USE, NOT FOR ANALYSIS</th>\n      <th>Intentional Use of Force (Developing)</th>\n      <th>Link to news article or photo of official document</th>\n      <th>Symptoms of mental illness? INTERNAL USE, NOT FOR ANALYSIS</th>\n      <th>Video</th>\n      <th>Date&amp;Description</th>\n      <th>Unique ID formula</th>\n      <th>Unique identifier (redundant)</th>\n      <th>Date (Year)</th>\n    </tr>\n  </thead>\n  <tbody>\n    <tr>\n      <th>0</th>\n      <td>25746.0</td>\n      <td>Samuel H. Knapp</td>\n      <td>17</td>\n      <td>Male</td>\n      <td>European-American/White</td>\n      <td>European-American/White</td>\n      <td>Not imputed</td>\n      <td>NaN</td>\n      <td>2000-01-01</td>\n      <td>27898-27804 US-101</td>\n      <td>...</td>\n      <td>Samuel Knapp was allegedly driving a stolen ve...</td>\n      <td>Unreported</td>\n      <td>Pursuit</td>\n      <td>https://drive.google.com/file/d/10DisrV8K5ReP1...</td>\n      <td>No</td>\n      <td>NaN</td>\n      <td>1/1/2000: Samuel Knapp was allegedly driving a...</td>\n      <td>NaN</td>\n      <td>25746.0</td>\n      <td>2000</td>\n    </tr>\n    <tr>\n      <th>1</th>\n      <td>25747.0</td>\n      <td>Mark A. Horton</td>\n      <td>21</td>\n      <td>Male</td>\n      <td>African-American/Black</td>\n      <td>African-American/Black</td>\n      <td>Not imputed</td>\n      <td>NaN</td>\n      <td>2000-01-01</td>\n      <td>Davison Freeway</td>\n      <td>...</td>\n      <td>Two Detroit men killed when their car crashed ...</td>\n      <td>Unreported</td>\n      <td>Pursuit</td>\n      <td>https://drive.google.com/file/d/1-nK-RohgiM-tZ...</td>\n      <td>No</td>\n      <td>NaN</td>\n      <td>1/1/2000: Two Detroit men killed when their ca...</td>\n      <td>NaN</td>\n      <td>25747.0</td>\n      <td>2000</td>\n    </tr>\n    <tr>\n      <th>2</th>\n      <td>25748.0</td>\n      <td>Phillip A. Blurbridge</td>\n      <td>19</td>\n      <td>Male</td>\n      <td>African-American/Black</td>\n      <td>African-American/Black</td>\n      <td>Not imputed</td>\n      <td>NaN</td>\n      <td>2000-01-01</td>\n      <td>Davison Freeway</td>\n      <td>...</td>\n      <td>Two Detroit men killed when their car crashed ...</td>\n      <td>Unreported</td>\n      <td>Pursuit</td>\n      <td>https://drive.google.com/file/d/1-nK-RohgiM-tZ...</td>\n      <td>No</td>\n      <td>NaN</td>\n      <td>1/1/2000: Two Detroit men killed when their ca...</td>\n      <td>NaN</td>\n      <td>25748.0</td>\n      <td>2000</td>\n    </tr>\n    <tr>\n      <th>3</th>\n      <td>25749.0</td>\n      <td>Mark Ortiz</td>\n      <td>23</td>\n      <td>Male</td>\n      <td>Hispanic/Latino</td>\n      <td>Hispanic/Latino</td>\n      <td>Not imputed</td>\n      <td>NaN</td>\n      <td>2000-01-01</td>\n      <td>600 W Cherry Ln</td>\n      <td>...</td>\n      <td>A motorcycle was allegedly being driven errati...</td>\n      <td>Unreported</td>\n      <td>Pursuit</td>\n      <td>https://drive.google.com/file/d/1qAEefRjX_aTtC...</td>\n      <td>No</td>\n      <td>NaN</td>\n      <td>1/1/2000: A motorcycle was allegedly being dri...</td>\n      <td>NaN</td>\n      <td>25749.0</td>\n      <td>2000</td>\n    </tr>\n    <tr>\n      <th>4</th>\n      <td>1.0</td>\n      <td>LaTanya Janelle McCoy</td>\n      <td>24</td>\n      <td>Female</td>\n      <td>African-American/Black</td>\n      <td>African-American/Black</td>\n      <td>Not imputed</td>\n      <td>NaN</td>\n      <td>2000-01-02</td>\n      <td>5700 block Mack Road</td>\n      <td>...</td>\n      <td>LaTanya Janelle McCoy's car was struck from be...</td>\n      <td>Unknown</td>\n      <td>Pursuit</td>\n      <td>http://www.recordnet.com/article/20000110/A_NE...</td>\n      <td>No</td>\n      <td>NaN</td>\n      <td>1/2/2000: LaTanya Janelle McCoy's car was stru...</td>\n      <td>NaN</td>\n      <td>1.0</td>\n      <td>2000</td>\n    </tr>\n  </tbody>\n</table>\n<p>5 rows × 29 columns</p>\n</div>"
     },
     "metadata": {},
     "execution_count": 2
    }
   ],
   "source": [
    "df_fatal = pd.read_csv('C:/Users/Johnny/Documents/Classes/DS4A/Project/Datasets/fatal_encounters_dot_org.csv')\n",
    "df_fatal_copy = df_fatal.copy()\n",
    "\n",
    "df_fatal['Date of injury resulting in death (month/day/year)'] = pd.to_datetime(df_fatal['Date of injury resulting in death (month/day/year)'], format = '%m/%d/%Y')\n",
    "df_fatal = df_fatal.iloc[:-1,:]\n",
    "\n",
    "df_fatal.head()"
   ]
  },
  {
   "cell_type": "code",
   "execution_count": 3,
   "metadata": {},
   "outputs": [
    {
     "output_type": "execute_result",
     "data": {
      "text/plain": [
       "Index(['Unique ID', 'Subject's name', 'Subject's age', 'Subject's gender',\n",
       "       'Subject's race', 'Subject's race with imputations',\n",
       "       'Imputation probability', 'URL of image of deceased',\n",
       "       'Date of injury resulting in death (month/day/year)',\n",
       "       'Location of injury (address)', 'Location of death (city)',\n",
       "       'Location of death (state)', 'Location of death (zip code)',\n",
       "       'Location of death (county)', 'Full Address', 'Latitude', 'Longitude',\n",
       "       'Agency responsible for death', 'Cause of death',\n",
       "       'A brief description of the circumstances surrounding the death',\n",
       "       'Dispositions/Exclusions INTERNAL USE, NOT FOR ANALYSIS',\n",
       "       'Intentional Use of Force (Developing)',\n",
       "       'Link to news article or photo of official document',\n",
       "       'Symptoms of mental illness? INTERNAL USE, NOT FOR ANALYSIS', 'Video',\n",
       "       'Date&Description', 'Unique ID formula',\n",
       "       'Unique identifier (redundant)', 'Date (Year)'],\n",
       "      dtype='object')"
      ]
     },
     "metadata": {},
     "execution_count": 3
    }
   ],
   "source": [
    "df_fatal.columns"
   ]
  },
  {
   "cell_type": "code",
   "execution_count": 3,
   "metadata": {},
   "outputs": [],
   "source": [
    "fatal_features = [\"Subject's name\", \n",
    "                  \"Subject's age\", \n",
    "                  \"Subject's gender\", \n",
    "                  \"Subject's race\", \n",
    "                  \"Date of injury resulting in death (month/day/year)\",\n",
    "                  'Location of injury (address)', \n",
    "                  'Location of death (city)',\n",
    "                  'Location of death (state)', \n",
    "                  'Location of death (zip code)',\n",
    "                  'Location of death (county)',\n",
    "                  'Latitude', \n",
    "                  'Longitude',\n",
    "                  'Agency responsible for death',\n",
    "                  'Cause of death',\n",
    "                  'Intentional Use of Force (Developing)',\n",
    "                  \"Symptoms of mental illness? INTERNAL USE, NOT FOR ANALYSIS\",\n",
    "                  'Date (Year)',\n",
    "                  'A brief description of the circumstances surrounding the death',\n",
    "                  'Unique ID']\n",
    "\n",
    "fatal_features_renamed = ['civilians_name',\n",
    "                          'civilians_age',\n",
    "                          'civilians_gender',\n",
    "                          'civilians_race',\n",
    "                          'date',\n",
    "                          'address',\n",
    "                          'city',\n",
    "                          'state',\n",
    "                          'zip_code',\n",
    "                          'county',\n",
    "                          'latitude',\n",
    "                          'longitude',\n",
    "                          'agency',\n",
    "                          'cause_of_death',\n",
    "                          'use_of_force',\n",
    "                          'mental_illness',\n",
    "                          'year',\n",
    "                          'description',\n",
    "                          'fatal_id']\n",
    "\n",
    "renaming_fatal = {}\n",
    "for i in range(0, len(fatal_features)):\n",
    "    renaming_fatal[fatal_features[i]] = fatal_features_renamed[i]\n",
    "    \n",
    "df_fatal = df_fatal.rename(columns = renaming_fatal)\n",
    "df_fatal = df_fatal[fatal_features_renamed]\n",
    "df_fatal['source']= 'fatal'"
   ]
  },
  {
   "cell_type": "code",
   "execution_count": 4,
   "metadata": {
    "scrolled": false
   },
   "outputs": [
    {
     "output_type": "stream",
     "name": "stdout",
     "text": [
      "(28621, 20)\n"
     ]
    },
    {
     "output_type": "execute_result",
     "data": {
      "text/plain": [
       "          civilians_name civilians_age civilians_gender  \\\n",
       "0        Samuel H. Knapp            17             Male   \n",
       "1         Mark A. Horton            21             Male   \n",
       "2  Phillip A. Blurbridge            19             Male   \n",
       "3             Mark Ortiz            23             Male   \n",
       "4  LaTanya Janelle McCoy            24           Female   \n",
       "\n",
       "            civilians_race       date               address        city state  \\\n",
       "0  European-American/White 2000-01-01    27898-27804 US-101     Willits    CA   \n",
       "1   African-American/Black 2000-01-01       Davison Freeway     Detroit    MI   \n",
       "2   African-American/Black 2000-01-01       Davison Freeway     Detroit    MI   \n",
       "3          Hispanic/Latino 2000-01-01       600 W Cherry Ln    Carlsbad    NM   \n",
       "4   African-American/Black 2000-01-02  5700 block Mack Road  Sacramento    CA   \n",
       "\n",
       "   zip_code      county   latitude   longitude  \\\n",
       "0   95490.0   Mendocino  39.470883 -123.361751   \n",
       "1   48203.0       Wayne  42.404526  -83.092274   \n",
       "2   48203.0       Wayne  42.404526  -83.092274   \n",
       "3   88220.0        Eddy  32.450080 -104.237643   \n",
       "4   95823.0  Sacramento  38.473949 -121.433776   \n",
       "\n",
       "                              agency cause_of_death use_of_force  \\\n",
       "0  Mendocino County Sheriff's Office        Vehicle      Pursuit   \n",
       "1                                NaN        Vehicle      Pursuit   \n",
       "2                                NaN        Vehicle      Pursuit   \n",
       "3       Eddy County Sheriff's Office        Vehicle      Pursuit   \n",
       "4       Sacramento Police Department        Vehicle      Pursuit   \n",
       "\n",
       "  mental_illness  year                                        description  \\\n",
       "0             No  2000  Samuel Knapp was allegedly driving a stolen ve...   \n",
       "1             No  2000  Two Detroit men killed when their car crashed ...   \n",
       "2             No  2000  Two Detroit men killed when their car crashed ...   \n",
       "3             No  2000  A motorcycle was allegedly being driven errati...   \n",
       "4             No  2000  LaTanya Janelle McCoy's car was struck from be...   \n",
       "\n",
       "   fatal_id source  \n",
       "0   25746.0  fatal  \n",
       "1   25747.0  fatal  \n",
       "2   25748.0  fatal  \n",
       "3   25749.0  fatal  \n",
       "4       1.0  fatal  "
      ],
      "text/html": "<div>\n<style scoped>\n    .dataframe tbody tr th:only-of-type {\n        vertical-align: middle;\n    }\n\n    .dataframe tbody tr th {\n        vertical-align: top;\n    }\n\n    .dataframe thead th {\n        text-align: right;\n    }\n</style>\n<table border=\"1\" class=\"dataframe\">\n  <thead>\n    <tr style=\"text-align: right;\">\n      <th></th>\n      <th>civilians_name</th>\n      <th>civilians_age</th>\n      <th>civilians_gender</th>\n      <th>civilians_race</th>\n      <th>date</th>\n      <th>address</th>\n      <th>city</th>\n      <th>state</th>\n      <th>zip_code</th>\n      <th>county</th>\n      <th>latitude</th>\n      <th>longitude</th>\n      <th>agency</th>\n      <th>cause_of_death</th>\n      <th>use_of_force</th>\n      <th>mental_illness</th>\n      <th>year</th>\n      <th>description</th>\n      <th>fatal_id</th>\n      <th>source</th>\n    </tr>\n  </thead>\n  <tbody>\n    <tr>\n      <th>0</th>\n      <td>Samuel H. Knapp</td>\n      <td>17</td>\n      <td>Male</td>\n      <td>European-American/White</td>\n      <td>2000-01-01</td>\n      <td>27898-27804 US-101</td>\n      <td>Willits</td>\n      <td>CA</td>\n      <td>95490.0</td>\n      <td>Mendocino</td>\n      <td>39.470883</td>\n      <td>-123.361751</td>\n      <td>Mendocino County Sheriff's Office</td>\n      <td>Vehicle</td>\n      <td>Pursuit</td>\n      <td>No</td>\n      <td>2000</td>\n      <td>Samuel Knapp was allegedly driving a stolen ve...</td>\n      <td>25746.0</td>\n      <td>fatal</td>\n    </tr>\n    <tr>\n      <th>1</th>\n      <td>Mark A. Horton</td>\n      <td>21</td>\n      <td>Male</td>\n      <td>African-American/Black</td>\n      <td>2000-01-01</td>\n      <td>Davison Freeway</td>\n      <td>Detroit</td>\n      <td>MI</td>\n      <td>48203.0</td>\n      <td>Wayne</td>\n      <td>42.404526</td>\n      <td>-83.092274</td>\n      <td>NaN</td>\n      <td>Vehicle</td>\n      <td>Pursuit</td>\n      <td>No</td>\n      <td>2000</td>\n      <td>Two Detroit men killed when their car crashed ...</td>\n      <td>25747.0</td>\n      <td>fatal</td>\n    </tr>\n    <tr>\n      <th>2</th>\n      <td>Phillip A. Blurbridge</td>\n      <td>19</td>\n      <td>Male</td>\n      <td>African-American/Black</td>\n      <td>2000-01-01</td>\n      <td>Davison Freeway</td>\n      <td>Detroit</td>\n      <td>MI</td>\n      <td>48203.0</td>\n      <td>Wayne</td>\n      <td>42.404526</td>\n      <td>-83.092274</td>\n      <td>NaN</td>\n      <td>Vehicle</td>\n      <td>Pursuit</td>\n      <td>No</td>\n      <td>2000</td>\n      <td>Two Detroit men killed when their car crashed ...</td>\n      <td>25748.0</td>\n      <td>fatal</td>\n    </tr>\n    <tr>\n      <th>3</th>\n      <td>Mark Ortiz</td>\n      <td>23</td>\n      <td>Male</td>\n      <td>Hispanic/Latino</td>\n      <td>2000-01-01</td>\n      <td>600 W Cherry Ln</td>\n      <td>Carlsbad</td>\n      <td>NM</td>\n      <td>88220.0</td>\n      <td>Eddy</td>\n      <td>32.450080</td>\n      <td>-104.237643</td>\n      <td>Eddy County Sheriff's Office</td>\n      <td>Vehicle</td>\n      <td>Pursuit</td>\n      <td>No</td>\n      <td>2000</td>\n      <td>A motorcycle was allegedly being driven errati...</td>\n      <td>25749.0</td>\n      <td>fatal</td>\n    </tr>\n    <tr>\n      <th>4</th>\n      <td>LaTanya Janelle McCoy</td>\n      <td>24</td>\n      <td>Female</td>\n      <td>African-American/Black</td>\n      <td>2000-01-02</td>\n      <td>5700 block Mack Road</td>\n      <td>Sacramento</td>\n      <td>CA</td>\n      <td>95823.0</td>\n      <td>Sacramento</td>\n      <td>38.473949</td>\n      <td>-121.433776</td>\n      <td>Sacramento Police Department</td>\n      <td>Vehicle</td>\n      <td>Pursuit</td>\n      <td>No</td>\n      <td>2000</td>\n      <td>LaTanya Janelle McCoy's car was struck from be...</td>\n      <td>1.0</td>\n      <td>fatal</td>\n    </tr>\n  </tbody>\n</table>\n</div>"
     },
     "metadata": {},
     "execution_count": 4
    }
   ],
   "source": [
    "print(df_fatal.shape)\n",
    "df_fatal.head()"
   ]
  },
  {
   "cell_type": "markdown",
   "metadata": {},
   "source": [
    "## Police Killings Mapping Police Violence"
   ]
  },
  {
   "cell_type": "markdown",
   "metadata": {},
   "source": [
    "Victim data by name.<br>\n",
    "Source: Mapping Police Violence, https://mappingpoliceviolence.org/aboutthedata"
   ]
  },
  {
   "cell_type": "code",
   "execution_count": 5,
   "metadata": {},
   "outputs": [
    {
     "output_type": "stream",
     "name": "stdout",
     "text": [
      "(8427, 68)\n"
     ]
    },
    {
     "output_type": "execute_result",
     "data": {
      "text/plain": [
       "             Victim's name Victim's age Victim's gender Victim's race  \\\n",
       "0  Name withheld by police      Unknown            Male  Unknown race   \n",
       "1  Name withheld by police      Unknown            Male  Unknown race   \n",
       "2  Name withheld by police           61            Male  Unknown race   \n",
       "3  Name withheld by police           22            Male  Unknown race   \n",
       "4          Steven D. Smith           33            Male  Unknown race   \n",
       "\n",
       "  URL of image of victim Date of Incident (month/day/year)  \\\n",
       "0                    NaN                        2020-06-09   \n",
       "1                    NaN                        2020-05-09   \n",
       "2                    NaN                        2020-05-09   \n",
       "3                    NaN                        2020-05-09   \n",
       "4                    NaN                        2020-04-09   \n",
       "\n",
       "   Street Address of Incident            City State  Zipcode  ... Unnamed: 58  \\\n",
       "0          337 Garrison Place  Virginia Beach    VA  23452.0  ...         NaN   \n",
       "1  4900 South Lavergne Avenue         Chicago    IL  60638.0  ...         NaN   \n",
       "2      2118 Fredericksburg Rd     San Antonio    TX  78201.0  ...         NaN   \n",
       "3        2500 Logistics Drive    Battle Creek    MI  49037.0  ...         NaN   \n",
       "4         200 N. State Street        Syracuse    NY  13203.0  ...         NaN   \n",
       "\n",
       "  Unnamed: 59 Unnamed: 60 Unnamed: 61 Unnamed: 62 Unnamed: 63 Unnamed: 64  \\\n",
       "0         NaN         NaN         NaN         NaN         NaN         NaN   \n",
       "1         NaN         NaN         NaN         NaN         NaN         NaN   \n",
       "2         NaN         NaN         NaN         NaN         NaN         NaN   \n",
       "3         NaN         NaN         NaN         NaN         NaN         NaN   \n",
       "4         NaN         NaN         NaN         NaN         NaN         NaN   \n",
       "\n",
       "  Unnamed: 65 Unnamed: 66 Unnamed: 67  \n",
       "0         NaN         NaN         NaN  \n",
       "1         NaN         NaN         NaN  \n",
       "2         NaN         NaN         NaN  \n",
       "3         NaN         NaN         NaN  \n",
       "4         NaN         NaN         NaN  \n",
       "\n",
       "[5 rows x 68 columns]"
      ],
      "text/html": "<div>\n<style scoped>\n    .dataframe tbody tr th:only-of-type {\n        vertical-align: middle;\n    }\n\n    .dataframe tbody tr th {\n        vertical-align: top;\n    }\n\n    .dataframe thead th {\n        text-align: right;\n    }\n</style>\n<table border=\"1\" class=\"dataframe\">\n  <thead>\n    <tr style=\"text-align: right;\">\n      <th></th>\n      <th>Victim's name</th>\n      <th>Victim's age</th>\n      <th>Victim's gender</th>\n      <th>Victim's race</th>\n      <th>URL of image of victim</th>\n      <th>Date of Incident (month/day/year)</th>\n      <th>Street Address of Incident</th>\n      <th>City</th>\n      <th>State</th>\n      <th>Zipcode</th>\n      <th>...</th>\n      <th>Unnamed: 58</th>\n      <th>Unnamed: 59</th>\n      <th>Unnamed: 60</th>\n      <th>Unnamed: 61</th>\n      <th>Unnamed: 62</th>\n      <th>Unnamed: 63</th>\n      <th>Unnamed: 64</th>\n      <th>Unnamed: 65</th>\n      <th>Unnamed: 66</th>\n      <th>Unnamed: 67</th>\n    </tr>\n  </thead>\n  <tbody>\n    <tr>\n      <th>0</th>\n      <td>Name withheld by police</td>\n      <td>Unknown</td>\n      <td>Male</td>\n      <td>Unknown race</td>\n      <td>NaN</td>\n      <td>2020-06-09</td>\n      <td>337 Garrison Place</td>\n      <td>Virginia Beach</td>\n      <td>VA</td>\n      <td>23452.0</td>\n      <td>...</td>\n      <td>NaN</td>\n      <td>NaN</td>\n      <td>NaN</td>\n      <td>NaN</td>\n      <td>NaN</td>\n      <td>NaN</td>\n      <td>NaN</td>\n      <td>NaN</td>\n      <td>NaN</td>\n      <td>NaN</td>\n    </tr>\n    <tr>\n      <th>1</th>\n      <td>Name withheld by police</td>\n      <td>Unknown</td>\n      <td>Male</td>\n      <td>Unknown race</td>\n      <td>NaN</td>\n      <td>2020-05-09</td>\n      <td>4900 South Lavergne Avenue</td>\n      <td>Chicago</td>\n      <td>IL</td>\n      <td>60638.0</td>\n      <td>...</td>\n      <td>NaN</td>\n      <td>NaN</td>\n      <td>NaN</td>\n      <td>NaN</td>\n      <td>NaN</td>\n      <td>NaN</td>\n      <td>NaN</td>\n      <td>NaN</td>\n      <td>NaN</td>\n      <td>NaN</td>\n    </tr>\n    <tr>\n      <th>2</th>\n      <td>Name withheld by police</td>\n      <td>61</td>\n      <td>Male</td>\n      <td>Unknown race</td>\n      <td>NaN</td>\n      <td>2020-05-09</td>\n      <td>2118 Fredericksburg Rd</td>\n      <td>San Antonio</td>\n      <td>TX</td>\n      <td>78201.0</td>\n      <td>...</td>\n      <td>NaN</td>\n      <td>NaN</td>\n      <td>NaN</td>\n      <td>NaN</td>\n      <td>NaN</td>\n      <td>NaN</td>\n      <td>NaN</td>\n      <td>NaN</td>\n      <td>NaN</td>\n      <td>NaN</td>\n    </tr>\n    <tr>\n      <th>3</th>\n      <td>Name withheld by police</td>\n      <td>22</td>\n      <td>Male</td>\n      <td>Unknown race</td>\n      <td>NaN</td>\n      <td>2020-05-09</td>\n      <td>2500 Logistics Drive</td>\n      <td>Battle Creek</td>\n      <td>MI</td>\n      <td>49037.0</td>\n      <td>...</td>\n      <td>NaN</td>\n      <td>NaN</td>\n      <td>NaN</td>\n      <td>NaN</td>\n      <td>NaN</td>\n      <td>NaN</td>\n      <td>NaN</td>\n      <td>NaN</td>\n      <td>NaN</td>\n      <td>NaN</td>\n    </tr>\n    <tr>\n      <th>4</th>\n      <td>Steven D. Smith</td>\n      <td>33</td>\n      <td>Male</td>\n      <td>Unknown race</td>\n      <td>NaN</td>\n      <td>2020-04-09</td>\n      <td>200 N. State Street</td>\n      <td>Syracuse</td>\n      <td>NY</td>\n      <td>13203.0</td>\n      <td>...</td>\n      <td>NaN</td>\n      <td>NaN</td>\n      <td>NaN</td>\n      <td>NaN</td>\n      <td>NaN</td>\n      <td>NaN</td>\n      <td>NaN</td>\n      <td>NaN</td>\n      <td>NaN</td>\n      <td>NaN</td>\n    </tr>\n  </tbody>\n</table>\n<p>5 rows × 68 columns</p>\n</div>"
     },
     "metadata": {},
     "execution_count": 5
    }
   ],
   "source": [
    "df_policeMPV = pd.read_csv('C:/Users/Johnny/Documents/Classes/DS4A/Project/Datasets/police_killings_MPV.csv', parse_dates=['Date of Incident (month/day/year)'],)\n",
    "df_policeMPV_copy = df_policeMPV.copy()\n",
    "\n",
    "print(df_policeMPV.shape)\n",
    "df_policeMPV.head()"
   ]
  },
  {
   "cell_type": "code",
   "execution_count": 6,
   "metadata": {},
   "outputs": [
    {
     "output_type": "execute_result",
     "data": {
      "text/plain": [
       "Index(['Victim's name', 'Victim's age', 'Victim's gender', 'Victim's race',\n",
       "       'URL of image of victim', 'Date of Incident (month/day/year)',\n",
       "       'Street Address of Incident', 'City', 'State', 'Zipcode', 'County',\n",
       "       'Agency responsible for death', 'ORI Agency Identifier (if available)',\n",
       "       'Cause of death',\n",
       "       'A brief description of the circumstances surrounding the death',\n",
       "       'Official disposition of death (justified or other)',\n",
       "       'Criminal Charges?',\n",
       "       'Link to news article or photo of official document',\n",
       "       'Symptoms of mental illness?', 'Unarmed/Did Not Have an Actual Weapon',\n",
       "       'Alleged Weapon (Source: WaPo and Review of Cases Not Included in WaPo Database)',\n",
       "       'Alleged Threat Level (Source: WaPo)', 'Fleeing (Source: WaPo)',\n",
       "       'Body Camera (Source: WaPo)', 'WaPo ID (If included in WaPo database)',\n",
       "       'Off-Duty Killing?',\n",
       "       'Geography (via Trulia methodology based on zipcode population density: http://jedkolko.com/wp-content/uploads/2015/05/full-ZCTA-urban-suburban-rural-classification.xlsx )',\n",
       "       'MPV ID', 'Fatal Encounters ID', 'Unnamed: 29', 'Unnamed: 30',\n",
       "       'Unnamed: 31', 'Unnamed: 32', 'Unnamed: 33', 'Unnamed: 34',\n",
       "       'Unnamed: 35', 'Unnamed: 36', 'Unnamed: 37', 'Unnamed: 38',\n",
       "       'Unnamed: 39', 'Unnamed: 40', 'Unnamed: 41', 'Unnamed: 42',\n",
       "       'Unnamed: 43', 'Unnamed: 44', 'Unnamed: 45', 'Unnamed: 46',\n",
       "       'Unnamed: 47', 'Unnamed: 48', 'Unnamed: 49', 'Unnamed: 50',\n",
       "       'Unnamed: 51', 'Unnamed: 52', 'Unnamed: 53', 'Unnamed: 54',\n",
       "       'Unnamed: 55', 'Unnamed: 56', 'Unnamed: 57', 'Unnamed: 58',\n",
       "       'Unnamed: 59', 'Unnamed: 60', 'Unnamed: 61', 'Unnamed: 62',\n",
       "       'Unnamed: 63', 'Unnamed: 64', 'Unnamed: 65', 'Unnamed: 66',\n",
       "       'Unnamed: 67'],\n",
       "      dtype='object')"
      ]
     },
     "metadata": {},
     "execution_count": 6
    }
   ],
   "source": [
    "df_policeMPV.columns"
   ]
  },
  {
   "cell_type": "code",
   "execution_count": 7,
   "metadata": {},
   "outputs": [],
   "source": [
    "MPV_features = [\"Victim's name\", \n",
    "                \"Victim's age\", \n",
    "                \"Victim's gender\",\n",
    "                \"Victim's race\",\n",
    "                \"Date of Incident (month/day/year)\",\n",
    "                \"Street Address of Incident\",\n",
    "                \"City\",\n",
    "                \"State\", \n",
    "                \"Zipcode\",\n",
    "                \"County\",\n",
    "                \"Agency responsible for death\",\n",
    "                \"Cause of death\",\n",
    "                \"Symptoms of mental illness?\",\n",
    "                'A brief description of the circumstances surrounding the death',\n",
    "                'WaPo ID (If included in WaPo database)',\n",
    "                'MPV ID',\n",
    "                'Fatal Encounters ID',\n",
    "                'Alleged Threat Level (Source: WaPo)',\n",
    "                'Fleeing (Source: WaPo)',\n",
    "                'Body Camera (Source: WaPo)',\n",
    "                'Alleged Weapon (Source: WaPo and Review of Cases Not Included in WaPo Database)',\n",
    "                'Geography (via Trulia methodology based on zipcode population density: http://jedkolko.com/wp-content/uploads/2015/05/full-ZCTA-urban-suburban-rural-classification.xlsx )',\n",
    "                'Criminal Charges?',\n",
    "                'Off-Duty Killing?'\n",
    "               ]\n",
    "\n",
    "MPV_features_rename = ['civilians_name',\n",
    "                       'civilians_age',\n",
    "                       'civilians_gender',\n",
    "                       'civilians_race',\n",
    "                       'date',\n",
    "                       'address',\n",
    "                       'city',\n",
    "                       'state',\n",
    "                       'zip_code',\n",
    "                       'county',\n",
    "                       'agency',\n",
    "                       'cause_of_death',\n",
    "                       'mental_illness',\n",
    "                       'description',\n",
    "                       'wash_id',\n",
    "                       'mpv_id',\n",
    "                       'fatal_id',\n",
    "                       'threat_level',\n",
    "                       'fleeing',\n",
    "                       'body_cam',\n",
    "                       'alleged_weapon',\n",
    "                       'geography',\n",
    "                       'criminal_charges',\n",
    "                       'off_duty'\n",
    "                      ]\n",
    "\n",
    "renaming_MPV = {}\n",
    "for i in range(0, len(MPV_features)):\n",
    "    renaming_MPV[MPV_features[i]] = MPV_features_rename[i]\n",
    "    \n",
    "df_policeMPV = df_policeMPV.rename(columns = renaming_MPV)\n",
    "df_policeMPV = df_policeMPV[MPV_features_rename]\n",
    "df_policeMPV['source'] = 'mpv'"
   ]
  },
  {
   "cell_type": "code",
   "execution_count": 8,
   "metadata": {},
   "outputs": [
    {
     "output_type": "stream",
     "name": "stdout",
     "text": [
      "(8427, 25)\n"
     ]
    },
    {
     "output_type": "execute_result",
     "data": {
      "text/plain": [
       "            civilians_name civilians_age civilians_gender civilians_race  \\\n",
       "0  Name withheld by police       Unknown             Male   Unknown race   \n",
       "1  Name withheld by police       Unknown             Male   Unknown race   \n",
       "2  Name withheld by police            61             Male   Unknown race   \n",
       "3  Name withheld by police            22             Male   Unknown race   \n",
       "4          Steven D. Smith            33             Male   Unknown race   \n",
       "\n",
       "        date                     address            city state  zip_code  \\\n",
       "0 2020-06-09          337 Garrison Place  Virginia Beach    VA   23452.0   \n",
       "1 2020-05-09  4900 South Lavergne Avenue         Chicago    IL   60638.0   \n",
       "2 2020-05-09      2118 Fredericksburg Rd     San Antonio    TX   78201.0   \n",
       "3 2020-05-09        2500 Logistics Drive    Battle Creek    MI   49037.0   \n",
       "4 2020-04-09         200 N. State Street        Syracuse    NY   13203.0   \n",
       "\n",
       "                county  ... mpv_id fatal_id threat_level      fleeing  \\\n",
       "0  Virginia Beach City  ...   8448  28737.0       attack  Not fleeing   \n",
       "1                 Cook  ...   8446  28734.0       attack  Not fleeing   \n",
       "2                Bexar  ...   8447  28735.0       attack  Not fleeing   \n",
       "3              Calhoun  ...   8449  28736.0       attack          Car   \n",
       "4             Onondaga  ...   8444  28726.0          NaN          NaN   \n",
       "\n",
       "   body_cam  alleged_weapon  geography  criminal_charges  off_duty source  \n",
       "0       NaN           knife        NaN  No known charges       NaN    mpv  \n",
       "1       NaN           knife        NaN  No known charges       NaN    mpv  \n",
       "2       NaN           knife        NaN  No known charges  off-duty    mpv  \n",
       "3       NaN         vehicle        NaN  No known charges       NaN    mpv  \n",
       "4       NaN             gun        NaN  No known charges       NaN    mpv  \n",
       "\n",
       "[5 rows x 25 columns]"
      ],
      "text/html": "<div>\n<style scoped>\n    .dataframe tbody tr th:only-of-type {\n        vertical-align: middle;\n    }\n\n    .dataframe tbody tr th {\n        vertical-align: top;\n    }\n\n    .dataframe thead th {\n        text-align: right;\n    }\n</style>\n<table border=\"1\" class=\"dataframe\">\n  <thead>\n    <tr style=\"text-align: right;\">\n      <th></th>\n      <th>civilians_name</th>\n      <th>civilians_age</th>\n      <th>civilians_gender</th>\n      <th>civilians_race</th>\n      <th>date</th>\n      <th>address</th>\n      <th>city</th>\n      <th>state</th>\n      <th>zip_code</th>\n      <th>county</th>\n      <th>...</th>\n      <th>mpv_id</th>\n      <th>fatal_id</th>\n      <th>threat_level</th>\n      <th>fleeing</th>\n      <th>body_cam</th>\n      <th>alleged_weapon</th>\n      <th>geography</th>\n      <th>criminal_charges</th>\n      <th>off_duty</th>\n      <th>source</th>\n    </tr>\n  </thead>\n  <tbody>\n    <tr>\n      <th>0</th>\n      <td>Name withheld by police</td>\n      <td>Unknown</td>\n      <td>Male</td>\n      <td>Unknown race</td>\n      <td>2020-06-09</td>\n      <td>337 Garrison Place</td>\n      <td>Virginia Beach</td>\n      <td>VA</td>\n      <td>23452.0</td>\n      <td>Virginia Beach City</td>\n      <td>...</td>\n      <td>8448</td>\n      <td>28737.0</td>\n      <td>attack</td>\n      <td>Not fleeing</td>\n      <td>NaN</td>\n      <td>knife</td>\n      <td>NaN</td>\n      <td>No known charges</td>\n      <td>NaN</td>\n      <td>mpv</td>\n    </tr>\n    <tr>\n      <th>1</th>\n      <td>Name withheld by police</td>\n      <td>Unknown</td>\n      <td>Male</td>\n      <td>Unknown race</td>\n      <td>2020-05-09</td>\n      <td>4900 South Lavergne Avenue</td>\n      <td>Chicago</td>\n      <td>IL</td>\n      <td>60638.0</td>\n      <td>Cook</td>\n      <td>...</td>\n      <td>8446</td>\n      <td>28734.0</td>\n      <td>attack</td>\n      <td>Not fleeing</td>\n      <td>NaN</td>\n      <td>knife</td>\n      <td>NaN</td>\n      <td>No known charges</td>\n      <td>NaN</td>\n      <td>mpv</td>\n    </tr>\n    <tr>\n      <th>2</th>\n      <td>Name withheld by police</td>\n      <td>61</td>\n      <td>Male</td>\n      <td>Unknown race</td>\n      <td>2020-05-09</td>\n      <td>2118 Fredericksburg Rd</td>\n      <td>San Antonio</td>\n      <td>TX</td>\n      <td>78201.0</td>\n      <td>Bexar</td>\n      <td>...</td>\n      <td>8447</td>\n      <td>28735.0</td>\n      <td>attack</td>\n      <td>Not fleeing</td>\n      <td>NaN</td>\n      <td>knife</td>\n      <td>NaN</td>\n      <td>No known charges</td>\n      <td>off-duty</td>\n      <td>mpv</td>\n    </tr>\n    <tr>\n      <th>3</th>\n      <td>Name withheld by police</td>\n      <td>22</td>\n      <td>Male</td>\n      <td>Unknown race</td>\n      <td>2020-05-09</td>\n      <td>2500 Logistics Drive</td>\n      <td>Battle Creek</td>\n      <td>MI</td>\n      <td>49037.0</td>\n      <td>Calhoun</td>\n      <td>...</td>\n      <td>8449</td>\n      <td>28736.0</td>\n      <td>attack</td>\n      <td>Car</td>\n      <td>NaN</td>\n      <td>vehicle</td>\n      <td>NaN</td>\n      <td>No known charges</td>\n      <td>NaN</td>\n      <td>mpv</td>\n    </tr>\n    <tr>\n      <th>4</th>\n      <td>Steven D. Smith</td>\n      <td>33</td>\n      <td>Male</td>\n      <td>Unknown race</td>\n      <td>2020-04-09</td>\n      <td>200 N. State Street</td>\n      <td>Syracuse</td>\n      <td>NY</td>\n      <td>13203.0</td>\n      <td>Onondaga</td>\n      <td>...</td>\n      <td>8444</td>\n      <td>28726.0</td>\n      <td>NaN</td>\n      <td>NaN</td>\n      <td>NaN</td>\n      <td>gun</td>\n      <td>NaN</td>\n      <td>No known charges</td>\n      <td>NaN</td>\n      <td>mpv</td>\n    </tr>\n  </tbody>\n</table>\n<p>5 rows × 25 columns</p>\n</div>"
     },
     "metadata": {},
     "execution_count": 8
    }
   ],
   "source": [
    "print(df_policeMPV.shape)\n",
    "df_policeMPV.head()"
   ]
  },
  {
   "cell_type": "markdown",
   "metadata": {},
   "source": [
    "## Shootings Washington Post"
   ]
  },
  {
   "cell_type": "markdown",
   "metadata": {},
   "source": [
    "Names and data for citizens fatally shot by police. Updated as of 8/2020.<br>\n",
    "Source: The Washington Post, https://github.com/washingtonpost/data-police-shootings"
   ]
  },
  {
   "cell_type": "code",
   "execution_count": 4,
   "metadata": {},
   "outputs": [
    {
     "output_type": "execute_result",
     "data": {
      "text/plain": [
       "   id                name        date   manner_of_death       armed   age  \\\n",
       "0   3          Tim Elliot  2015-01-02              shot         gun  53.0   \n",
       "1   4    Lewis Lee Lembke  2015-01-02              shot         gun  47.0   \n",
       "2   5  John Paul Quintero  2015-01-03  shot and Tasered     unarmed  23.0   \n",
       "3   8     Matthew Hoffman  2015-01-04              shot  toy weapon  32.0   \n",
       "4   9   Michael Rodriguez  2015-01-04              shot    nail gun  39.0   \n",
       "\n",
       "  gender race           city state  signs_of_mental_illness threat_level  \\\n",
       "0      M    A        Shelton    WA                     True       attack   \n",
       "1      M    W          Aloha    OR                    False       attack   \n",
       "2      M    H        Wichita    KS                    False        other   \n",
       "3      M    W  San Francisco    CA                     True       attack   \n",
       "4      M    H          Evans    CO                    False       attack   \n",
       "\n",
       "          flee  body_camera  \n",
       "0  Not fleeing        False  \n",
       "1  Not fleeing        False  \n",
       "2  Not fleeing        False  \n",
       "3  Not fleeing        False  \n",
       "4  Not fleeing        False  "
      ],
      "text/html": "<div>\n<style scoped>\n    .dataframe tbody tr th:only-of-type {\n        vertical-align: middle;\n    }\n\n    .dataframe tbody tr th {\n        vertical-align: top;\n    }\n\n    .dataframe thead th {\n        text-align: right;\n    }\n</style>\n<table border=\"1\" class=\"dataframe\">\n  <thead>\n    <tr style=\"text-align: right;\">\n      <th></th>\n      <th>id</th>\n      <th>name</th>\n      <th>date</th>\n      <th>manner_of_death</th>\n      <th>armed</th>\n      <th>age</th>\n      <th>gender</th>\n      <th>race</th>\n      <th>city</th>\n      <th>state</th>\n      <th>signs_of_mental_illness</th>\n      <th>threat_level</th>\n      <th>flee</th>\n      <th>body_camera</th>\n    </tr>\n  </thead>\n  <tbody>\n    <tr>\n      <th>0</th>\n      <td>3</td>\n      <td>Tim Elliot</td>\n      <td>2015-01-02</td>\n      <td>shot</td>\n      <td>gun</td>\n      <td>53.0</td>\n      <td>M</td>\n      <td>A</td>\n      <td>Shelton</td>\n      <td>WA</td>\n      <td>True</td>\n      <td>attack</td>\n      <td>Not fleeing</td>\n      <td>False</td>\n    </tr>\n    <tr>\n      <th>1</th>\n      <td>4</td>\n      <td>Lewis Lee Lembke</td>\n      <td>2015-01-02</td>\n      <td>shot</td>\n      <td>gun</td>\n      <td>47.0</td>\n      <td>M</td>\n      <td>W</td>\n      <td>Aloha</td>\n      <td>OR</td>\n      <td>False</td>\n      <td>attack</td>\n      <td>Not fleeing</td>\n      <td>False</td>\n    </tr>\n    <tr>\n      <th>2</th>\n      <td>5</td>\n      <td>John Paul Quintero</td>\n      <td>2015-01-03</td>\n      <td>shot and Tasered</td>\n      <td>unarmed</td>\n      <td>23.0</td>\n      <td>M</td>\n      <td>H</td>\n      <td>Wichita</td>\n      <td>KS</td>\n      <td>False</td>\n      <td>other</td>\n      <td>Not fleeing</td>\n      <td>False</td>\n    </tr>\n    <tr>\n      <th>3</th>\n      <td>8</td>\n      <td>Matthew Hoffman</td>\n      <td>2015-01-04</td>\n      <td>shot</td>\n      <td>toy weapon</td>\n      <td>32.0</td>\n      <td>M</td>\n      <td>W</td>\n      <td>San Francisco</td>\n      <td>CA</td>\n      <td>True</td>\n      <td>attack</td>\n      <td>Not fleeing</td>\n      <td>False</td>\n    </tr>\n    <tr>\n      <th>4</th>\n      <td>9</td>\n      <td>Michael Rodriguez</td>\n      <td>2015-01-04</td>\n      <td>shot</td>\n      <td>nail gun</td>\n      <td>39.0</td>\n      <td>M</td>\n      <td>H</td>\n      <td>Evans</td>\n      <td>CO</td>\n      <td>False</td>\n      <td>attack</td>\n      <td>Not fleeing</td>\n      <td>False</td>\n    </tr>\n  </tbody>\n</table>\n</div>"
     },
     "metadata": {},
     "execution_count": 4
    }
   ],
   "source": [
    "df_wash = pd.read_csv('C:/Users/Johnny/Documents/Classes/DS4A/Project/Datasets/shootings_wash_post.csv')\n",
    "df_wash_copy = df_wash.copy()\n",
    "\n",
    "df_wash.head()"
   ]
  },
  {
   "cell_type": "code",
   "execution_count": 5,
   "metadata": {},
   "outputs": [
    {
     "output_type": "execute_result",
     "data": {
      "text/plain": [
       "Index(['id', 'name', 'date', 'manner_of_death', 'armed', 'age', 'gender',\n",
       "       'race', 'city', 'state', 'signs_of_mental_illness', 'threat_level',\n",
       "       'flee', 'body_camera'],\n",
       "      dtype='object')"
      ]
     },
     "metadata": {},
     "execution_count": 5
    }
   ],
   "source": [
    "df_wash.columns"
   ]
  },
  {
   "cell_type": "code",
   "execution_count": 10,
   "metadata": {},
   "outputs": [],
   "source": [
    "Wash_features = ['name',\n",
    "                 'age',\n",
    "                 'gender',\n",
    "                 'race',\n",
    "                 'date',\n",
    "                 'city',\n",
    "                 'state',\n",
    "                 'manner_of_death',\n",
    "                 'signs_of_mental_illness',\n",
    "                 'id',\n",
    "                 'armed',\n",
    "                 'flee',\n",
    "                 'body_camera',\n",
    "                 'threat_level'\n",
    "                ]\n",
    "\n",
    "Wash_features_rename = ['civilians_name',\n",
    "                       'civilians_age',\n",
    "                       'civilians_gender',\n",
    "                       'civilians_race',\n",
    "                       'date',\n",
    "                       'city',\n",
    "                       'state',\n",
    "                       'cause_of_death',\n",
    "                       'mental_illness',\n",
    "                       'wash_id',\n",
    "                       'alleged_weapon',\n",
    "                       'fleeing',\n",
    "                       'body_cam',\n",
    "                       'threat_level'\n",
    "                      ]\n",
    "\n",
    "\n",
    "renaming_Wash = {}\n",
    "for i in range(0, len(Wash_features)):\n",
    "    renaming_Wash[Wash_features[i]] = Wash_features_rename[i]\n",
    "    \n",
    "df_wash = df_wash.rename(columns = renaming_Wash)\n",
    "df_wash = df_wash[Wash_features_rename]\n",
    "df_wash['source'] = 'wash'"
   ]
  },
  {
   "cell_type": "code",
   "execution_count": 11,
   "metadata": {},
   "outputs": [
    {
     "output_type": "stream",
     "name": "stdout",
     "text": [
      "Index(['civilians_name', 'civilians_age', 'civilians_gender', 'civilians_race',\n       'date', 'city', 'state', 'cause_of_death', 'mental_illness', 'source'],\n      dtype='object')\nIndex(['civilians_name', 'civilians_age', 'civilians_gender', 'civilians_race',\n       'date', 'city', 'state', 'cause_of_death', 'mental_illness', 'wash_id',\n       'alleged_weapon', 'fleeing', 'body_cam', 'threat_level', 'source'],\n      dtype='object')\nIndex(['civilians_name', 'civilians_age', 'civilians_gender', 'civilians_race',\n       'date', 'address', 'city', 'state', 'zip_code', 'county', 'agency',\n       'cause_of_death', 'mental_illness', 'description', 'fatal_id',\n       'source'],\n      dtype='object')\n"
     ]
    }
   ],
   "source": [
    "print(df_fatal.columns & df_wash.columns)\n",
    "print(df_wash.columns & df_policeMPV.columns)\n",
    "print(df_fatal.columns & df_policeMPV.columns)"
   ]
  },
  {
   "cell_type": "markdown",
   "metadata": {},
   "source": [
    "## Concatenating Fatal and Mapping Police Violence Datasets"
   ]
  },
  {
   "cell_type": "code",
   "execution_count": 12,
   "metadata": {},
   "outputs": [],
   "source": [
    "df_fatal_MPV = pd.concat([df_fatal, df_policeMPV])\n",
    "df_fatal_MPV = df_fatal_MPV.drop_duplicates(subset='fatal_id').reset_index(drop=True)"
   ]
  },
  {
   "cell_type": "code",
   "execution_count": 13,
   "metadata": {},
   "outputs": [
    {
     "output_type": "stream",
     "name": "stdout",
     "text": [
      "(28621, 20)\n(8427, 25)\n(28655, 29)\n"
     ]
    },
    {
     "output_type": "execute_result",
     "data": {
      "text/plain": [
       "          civilians_name civilians_age civilians_gender  \\\n",
       "0        Samuel H. Knapp            17             Male   \n",
       "1         Mark A. Horton            21             Male   \n",
       "2  Phillip A. Blurbridge            19             Male   \n",
       "3             Mark Ortiz            23             Male   \n",
       "4  LaTanya Janelle McCoy            24           Female   \n",
       "\n",
       "            civilians_race       date               address        city state  \\\n",
       "0  European-American/White 2000-01-01    27898-27804 US-101     Willits    CA   \n",
       "1   African-American/Black 2000-01-01       Davison Freeway     Detroit    MI   \n",
       "2   African-American/Black 2000-01-01       Davison Freeway     Detroit    MI   \n",
       "3          Hispanic/Latino 2000-01-01       600 W Cherry Ln    Carlsbad    NM   \n",
       "4   African-American/Black 2000-01-02  5700 block Mack Road  Sacramento    CA   \n",
       "\n",
       "   zip_code      county  ...  source  wash_id mpv_id threat_level fleeing  \\\n",
       "0   95490.0   Mendocino  ...   fatal      NaN    NaN          NaN     NaN   \n",
       "1   48203.0       Wayne  ...   fatal      NaN    NaN          NaN     NaN   \n",
       "2   48203.0       Wayne  ...   fatal      NaN    NaN          NaN     NaN   \n",
       "3   88220.0        Eddy  ...   fatal      NaN    NaN          NaN     NaN   \n",
       "4   95823.0  Sacramento  ...   fatal      NaN    NaN          NaN     NaN   \n",
       "\n",
       "  body_cam  alleged_weapon geography  criminal_charges off_duty  \n",
       "0      NaN             NaN       NaN               NaN      NaN  \n",
       "1      NaN             NaN       NaN               NaN      NaN  \n",
       "2      NaN             NaN       NaN               NaN      NaN  \n",
       "3      NaN             NaN       NaN               NaN      NaN  \n",
       "4      NaN             NaN       NaN               NaN      NaN  \n",
       "\n",
       "[5 rows x 29 columns]"
      ],
      "text/html": "<div>\n<style scoped>\n    .dataframe tbody tr th:only-of-type {\n        vertical-align: middle;\n    }\n\n    .dataframe tbody tr th {\n        vertical-align: top;\n    }\n\n    .dataframe thead th {\n        text-align: right;\n    }\n</style>\n<table border=\"1\" class=\"dataframe\">\n  <thead>\n    <tr style=\"text-align: right;\">\n      <th></th>\n      <th>civilians_name</th>\n      <th>civilians_age</th>\n      <th>civilians_gender</th>\n      <th>civilians_race</th>\n      <th>date</th>\n      <th>address</th>\n      <th>city</th>\n      <th>state</th>\n      <th>zip_code</th>\n      <th>county</th>\n      <th>...</th>\n      <th>source</th>\n      <th>wash_id</th>\n      <th>mpv_id</th>\n      <th>threat_level</th>\n      <th>fleeing</th>\n      <th>body_cam</th>\n      <th>alleged_weapon</th>\n      <th>geography</th>\n      <th>criminal_charges</th>\n      <th>off_duty</th>\n    </tr>\n  </thead>\n  <tbody>\n    <tr>\n      <th>0</th>\n      <td>Samuel H. Knapp</td>\n      <td>17</td>\n      <td>Male</td>\n      <td>European-American/White</td>\n      <td>2000-01-01</td>\n      <td>27898-27804 US-101</td>\n      <td>Willits</td>\n      <td>CA</td>\n      <td>95490.0</td>\n      <td>Mendocino</td>\n      <td>...</td>\n      <td>fatal</td>\n      <td>NaN</td>\n      <td>NaN</td>\n      <td>NaN</td>\n      <td>NaN</td>\n      <td>NaN</td>\n      <td>NaN</td>\n      <td>NaN</td>\n      <td>NaN</td>\n      <td>NaN</td>\n    </tr>\n    <tr>\n      <th>1</th>\n      <td>Mark A. Horton</td>\n      <td>21</td>\n      <td>Male</td>\n      <td>African-American/Black</td>\n      <td>2000-01-01</td>\n      <td>Davison Freeway</td>\n      <td>Detroit</td>\n      <td>MI</td>\n      <td>48203.0</td>\n      <td>Wayne</td>\n      <td>...</td>\n      <td>fatal</td>\n      <td>NaN</td>\n      <td>NaN</td>\n      <td>NaN</td>\n      <td>NaN</td>\n      <td>NaN</td>\n      <td>NaN</td>\n      <td>NaN</td>\n      <td>NaN</td>\n      <td>NaN</td>\n    </tr>\n    <tr>\n      <th>2</th>\n      <td>Phillip A. Blurbridge</td>\n      <td>19</td>\n      <td>Male</td>\n      <td>African-American/Black</td>\n      <td>2000-01-01</td>\n      <td>Davison Freeway</td>\n      <td>Detroit</td>\n      <td>MI</td>\n      <td>48203.0</td>\n      <td>Wayne</td>\n      <td>...</td>\n      <td>fatal</td>\n      <td>NaN</td>\n      <td>NaN</td>\n      <td>NaN</td>\n      <td>NaN</td>\n      <td>NaN</td>\n      <td>NaN</td>\n      <td>NaN</td>\n      <td>NaN</td>\n      <td>NaN</td>\n    </tr>\n    <tr>\n      <th>3</th>\n      <td>Mark Ortiz</td>\n      <td>23</td>\n      <td>Male</td>\n      <td>Hispanic/Latino</td>\n      <td>2000-01-01</td>\n      <td>600 W Cherry Ln</td>\n      <td>Carlsbad</td>\n      <td>NM</td>\n      <td>88220.0</td>\n      <td>Eddy</td>\n      <td>...</td>\n      <td>fatal</td>\n      <td>NaN</td>\n      <td>NaN</td>\n      <td>NaN</td>\n      <td>NaN</td>\n      <td>NaN</td>\n      <td>NaN</td>\n      <td>NaN</td>\n      <td>NaN</td>\n      <td>NaN</td>\n    </tr>\n    <tr>\n      <th>4</th>\n      <td>LaTanya Janelle McCoy</td>\n      <td>24</td>\n      <td>Female</td>\n      <td>African-American/Black</td>\n      <td>2000-01-02</td>\n      <td>5700 block Mack Road</td>\n      <td>Sacramento</td>\n      <td>CA</td>\n      <td>95823.0</td>\n      <td>Sacramento</td>\n      <td>...</td>\n      <td>fatal</td>\n      <td>NaN</td>\n      <td>NaN</td>\n      <td>NaN</td>\n      <td>NaN</td>\n      <td>NaN</td>\n      <td>NaN</td>\n      <td>NaN</td>\n      <td>NaN</td>\n      <td>NaN</td>\n    </tr>\n  </tbody>\n</table>\n<p>5 rows × 29 columns</p>\n</div>"
     },
     "metadata": {},
     "execution_count": 13
    }
   ],
   "source": [
    "print(df_fatal.shape)\n",
    "print(df_policeMPV.shape)\n",
    "print(df_fatal_MPV.shape)\n",
    "df_fatal_MPV.head()"
   ]
  },
  {
   "cell_type": "markdown",
   "metadata": {},
   "source": [
    "## Concatenating Mapping Police Violence and Washington Post"
   ]
  },
  {
   "cell_type": "code",
   "execution_count": 14,
   "metadata": {},
   "outputs": [],
   "source": [
    "df_MPV_wash = pd.concat([df_policeMPV,df_wash])\n",
    "df_MPV_wash = df_MPV_wash.drop_duplicates(subset='wash_id').reset_index(drop=True)"
   ]
  },
  {
   "cell_type": "code",
   "execution_count": 15,
   "metadata": {},
   "outputs": [
    {
     "output_type": "stream",
     "name": "stdout",
     "text": [
      "(8427, 25)\n(5552, 15)\n(5599, 25)\n"
     ]
    },
    {
     "output_type": "execute_result",
     "data": {
      "text/plain": [
       "            civilians_name civilians_age civilians_gender civilians_race  \\\n",
       "0  Name withheld by police       Unknown             Male   Unknown race   \n",
       "1     Arthur Zalman Ferrel            58             Male   Unknown race   \n",
       "2     Marco Antonio Benito            36             Male       Hispanic   \n",
       "3             Dijon Kizzee            29             Male          Black   \n",
       "4          Nikolas Frazier            26             Male          White   \n",
       "\n",
       "                  date                                    address  \\\n",
       "0  2020-06-09 00:00:00                         337 Garrison Place   \n",
       "1  2020-08-31 00:00:00                        184 Pennwood Street   \n",
       "2  2020-08-31 00:00:00                          Rd 3100 & Rd 3177   \n",
       "3  2020-08-31 00:00:00  West 109th Place and South Budlong Avenue   \n",
       "4  2020-08-30 00:00:00                           1185 Herndon Ave   \n",
       "\n",
       "             city state  zip_code               county  ...  mpv_id fatal_id  \\\n",
       "0  Virginia Beach    VA   23452.0  Virginia Beach City  ...  8448.0  28737.0   \n",
       "1        Meridian    ID   83642.0                  Ada  ...  8435.0  28707.0   \n",
       "2           Aztec    NM   87410.0             San Juan  ...  8436.0  28709.0   \n",
       "3        Westmont    CA   90044.0          Los Angeles  ...  8437.0  28710.0   \n",
       "4          Clovis    CA   93612.0               Fresno  ...  8433.0  28701.0   \n",
       "\n",
       "  threat_level      fleeing  body_cam  alleged_weapon  geography  \\\n",
       "0       attack  Not fleeing       NaN           knife        NaN   \n",
       "1       attack  Not fleeing       Yes             gun        NaN   \n",
       "2        other        Other       Yes    undetermined        NaN   \n",
       "3       attack         Foot        No    undetermined        NaN   \n",
       "4       attack  Not fleeing       Yes      toy weapon   Suburban   \n",
       "\n",
       "   criminal_charges off_duty source  \n",
       "0  No known charges      NaN    mpv  \n",
       "1  No known charges      NaN    mpv  \n",
       "2  No known charges      NaN    mpv  \n",
       "3  No known charges      NaN    mpv  \n",
       "4  No known charges      NaN    mpv  \n",
       "\n",
       "[5 rows x 25 columns]"
      ],
      "text/html": "<div>\n<style scoped>\n    .dataframe tbody tr th:only-of-type {\n        vertical-align: middle;\n    }\n\n    .dataframe tbody tr th {\n        vertical-align: top;\n    }\n\n    .dataframe thead th {\n        text-align: right;\n    }\n</style>\n<table border=\"1\" class=\"dataframe\">\n  <thead>\n    <tr style=\"text-align: right;\">\n      <th></th>\n      <th>civilians_name</th>\n      <th>civilians_age</th>\n      <th>civilians_gender</th>\n      <th>civilians_race</th>\n      <th>date</th>\n      <th>address</th>\n      <th>city</th>\n      <th>state</th>\n      <th>zip_code</th>\n      <th>county</th>\n      <th>...</th>\n      <th>mpv_id</th>\n      <th>fatal_id</th>\n      <th>threat_level</th>\n      <th>fleeing</th>\n      <th>body_cam</th>\n      <th>alleged_weapon</th>\n      <th>geography</th>\n      <th>criminal_charges</th>\n      <th>off_duty</th>\n      <th>source</th>\n    </tr>\n  </thead>\n  <tbody>\n    <tr>\n      <th>0</th>\n      <td>Name withheld by police</td>\n      <td>Unknown</td>\n      <td>Male</td>\n      <td>Unknown race</td>\n      <td>2020-06-09 00:00:00</td>\n      <td>337 Garrison Place</td>\n      <td>Virginia Beach</td>\n      <td>VA</td>\n      <td>23452.0</td>\n      <td>Virginia Beach City</td>\n      <td>...</td>\n      <td>8448.0</td>\n      <td>28737.0</td>\n      <td>attack</td>\n      <td>Not fleeing</td>\n      <td>NaN</td>\n      <td>knife</td>\n      <td>NaN</td>\n      <td>No known charges</td>\n      <td>NaN</td>\n      <td>mpv</td>\n    </tr>\n    <tr>\n      <th>1</th>\n      <td>Arthur Zalman Ferrel</td>\n      <td>58</td>\n      <td>Male</td>\n      <td>Unknown race</td>\n      <td>2020-08-31 00:00:00</td>\n      <td>184 Pennwood Street</td>\n      <td>Meridian</td>\n      <td>ID</td>\n      <td>83642.0</td>\n      <td>Ada</td>\n      <td>...</td>\n      <td>8435.0</td>\n      <td>28707.0</td>\n      <td>attack</td>\n      <td>Not fleeing</td>\n      <td>Yes</td>\n      <td>gun</td>\n      <td>NaN</td>\n      <td>No known charges</td>\n      <td>NaN</td>\n      <td>mpv</td>\n    </tr>\n    <tr>\n      <th>2</th>\n      <td>Marco Antonio Benito</td>\n      <td>36</td>\n      <td>Male</td>\n      <td>Hispanic</td>\n      <td>2020-08-31 00:00:00</td>\n      <td>Rd 3100 &amp; Rd 3177</td>\n      <td>Aztec</td>\n      <td>NM</td>\n      <td>87410.0</td>\n      <td>San Juan</td>\n      <td>...</td>\n      <td>8436.0</td>\n      <td>28709.0</td>\n      <td>other</td>\n      <td>Other</td>\n      <td>Yes</td>\n      <td>undetermined</td>\n      <td>NaN</td>\n      <td>No known charges</td>\n      <td>NaN</td>\n      <td>mpv</td>\n    </tr>\n    <tr>\n      <th>3</th>\n      <td>Dijon Kizzee</td>\n      <td>29</td>\n      <td>Male</td>\n      <td>Black</td>\n      <td>2020-08-31 00:00:00</td>\n      <td>West 109th Place and South Budlong Avenue</td>\n      <td>Westmont</td>\n      <td>CA</td>\n      <td>90044.0</td>\n      <td>Los Angeles</td>\n      <td>...</td>\n      <td>8437.0</td>\n      <td>28710.0</td>\n      <td>attack</td>\n      <td>Foot</td>\n      <td>No</td>\n      <td>undetermined</td>\n      <td>NaN</td>\n      <td>No known charges</td>\n      <td>NaN</td>\n      <td>mpv</td>\n    </tr>\n    <tr>\n      <th>4</th>\n      <td>Nikolas Frazier</td>\n      <td>26</td>\n      <td>Male</td>\n      <td>White</td>\n      <td>2020-08-30 00:00:00</td>\n      <td>1185 Herndon Ave</td>\n      <td>Clovis</td>\n      <td>CA</td>\n      <td>93612.0</td>\n      <td>Fresno</td>\n      <td>...</td>\n      <td>8433.0</td>\n      <td>28701.0</td>\n      <td>attack</td>\n      <td>Not fleeing</td>\n      <td>Yes</td>\n      <td>toy weapon</td>\n      <td>Suburban</td>\n      <td>No known charges</td>\n      <td>NaN</td>\n      <td>mpv</td>\n    </tr>\n  </tbody>\n</table>\n<p>5 rows × 25 columns</p>\n</div>"
     },
     "metadata": {},
     "execution_count": 15
    }
   ],
   "source": [
    "print(df_policeMPV.shape)\n",
    "print(df_wash.shape)\n",
    "print(df_MPV_wash.shape)\n",
    "df_MPV_wash.head()"
   ]
  },
  {
   "cell_type": "markdown",
   "metadata": {},
   "source": [
    "## Concatenating Fatal Mapping Police Violence and Washington Post Datasets"
   ]
  },
  {
   "cell_type": "code",
   "execution_count": 16,
   "metadata": {},
   "outputs": [],
   "source": [
    "df_fatal_MPV_wash = pd.concat([df_fatal_MPV,df_MPV_wash]).reset_index(drop=True)\n",
    "duplicated_val = df_fatal_MPV_wash[(df_fatal_MPV_wash['civilians_name']=='Name withheld by police') | \n",
    "                                   (df_fatal_MPV_wash['civilians_name']=='TK TK')]"
   ]
  },
  {
   "cell_type": "markdown",
   "metadata": {},
   "source": [
    "### Cleaning Age column"
   ]
  },
  {
   "cell_type": "code",
   "execution_count": 17,
   "metadata": {},
   "outputs": [],
   "source": [
    "age_values = ['20s',\n",
    "              '60s',\n",
    "              '18-25',\n",
    "              '18 months',\n",
    "              '46/53',\n",
    "              '3 months',\n",
    "              '40s',\n",
    "              '30s',\n",
    "              '50s',\n",
    "              '6 months',\n",
    "              '9 months',\n",
    "              '10 months',\n",
    "              '2 months',\n",
    "              '7 months',\n",
    "              '8 months',\n",
    "              '3 days',\n",
    "              '55.',\n",
    "              '20s-30s',\n",
    "              '40-50',\n",
    "              '4 months',\n",
    "              '70s',\n",
    "              'Unknown']\n",
    "\n",
    "renaming_age_values = [25,\n",
    "                       65,\n",
    "                       21,\n",
    "                       1,\n",
    "                       50,\n",
    "                       1,\n",
    "                       40,\n",
    "                       30,\n",
    "                       50,\n",
    "                       1,\n",
    "                       1,\n",
    "                       1,\n",
    "                       1,\n",
    "                       1,\n",
    "                       1,\n",
    "                       1,\n",
    "                       55,\n",
    "                       25,\n",
    "                       48,\n",
    "                       1,\n",
    "                       70,\n",
    "                       np.nan]\n",
    "renaming_df_cleaned = {}\n",
    "for i in range(0, len(age_values)):\n",
    "    renaming_df_cleaned[age_values[i]] = renaming_age_values[i]\n",
    "    \n",
    "df_fatal_MPV_wash.civilians_age = df_fatal_MPV_wash.civilians_age.replace(to_replace=renaming_df_cleaned)\n",
    "duplicated_val.civilians_age = df_fatal_MPV_wash.civilians_age.replace(to_replace=renaming_df_cleaned)\n",
    "df_fatal_MPV_wash.civilians_age = pd.to_numeric(df_fatal_MPV_wash.civilians_age)\n",
    "duplicated_val.civilians_age = pd.to_numeric(duplicated_val.civilians_age)"
   ]
  },
  {
   "cell_type": "code",
   "execution_count": 18,
   "metadata": {},
   "outputs": [],
   "source": [
    "df_fatal_MPV_wash = df_fatal_MPV_wash.drop(labels=duplicated_val.index)\n",
    "df_fatal_MPV_wash = df_fatal_MPV_wash.drop_duplicates(['civilians_name','civilians_age'])\n",
    "df_fatal_MPV_wash = pd.concat([df_fatal_MPV_wash,duplicated_val]).reset_index(drop=True)"
   ]
  },
  {
   "cell_type": "markdown",
   "metadata": {},
   "source": [
    "## Data Cleaning df_fatal_MPV_wash"
   ]
  },
  {
   "cell_type": "code",
   "execution_count": 19,
   "metadata": {},
   "outputs": [
    {
     "output_type": "execute_result",
     "data": {
      "text/plain": [
       "          civilians_name  civilians_age civilians_gender  \\\n",
       "0        Samuel H. Knapp           17.0             Male   \n",
       "1         Mark A. Horton           21.0             Male   \n",
       "2  Phillip A. Blurbridge           19.0             Male   \n",
       "3             Mark Ortiz           23.0             Male   \n",
       "4  LaTanya Janelle McCoy           24.0           Female   \n",
       "\n",
       "            civilians_race                 date               address  \\\n",
       "0  European-American/White  2000-01-01 00:00:00    27898-27804 US-101   \n",
       "1   African-American/Black  2000-01-01 00:00:00       Davison Freeway   \n",
       "2   African-American/Black  2000-01-01 00:00:00       Davison Freeway   \n",
       "3          Hispanic/Latino  2000-01-01 00:00:00       600 W Cherry Ln   \n",
       "4   African-American/Black  2000-01-02 00:00:00  5700 block Mack Road   \n",
       "\n",
       "         city state  zip_code      county  ...  source  wash_id mpv_id  \\\n",
       "0     Willits    CA   95490.0   Mendocino  ...   fatal      NaN    NaN   \n",
       "1     Detroit    MI   48203.0       Wayne  ...   fatal      NaN    NaN   \n",
       "2     Detroit    MI   48203.0       Wayne  ...   fatal      NaN    NaN   \n",
       "3    Carlsbad    NM   88220.0        Eddy  ...   fatal      NaN    NaN   \n",
       "4  Sacramento    CA   95823.0  Sacramento  ...   fatal      NaN    NaN   \n",
       "\n",
       "  threat_level fleeing body_cam  alleged_weapon geography  criminal_charges  \\\n",
       "0          NaN     NaN      NaN             NaN       NaN               NaN   \n",
       "1          NaN     NaN      NaN             NaN       NaN               NaN   \n",
       "2          NaN     NaN      NaN             NaN       NaN               NaN   \n",
       "3          NaN     NaN      NaN             NaN       NaN               NaN   \n",
       "4          NaN     NaN      NaN             NaN       NaN               NaN   \n",
       "\n",
       "  off_duty  \n",
       "0      NaN  \n",
       "1      NaN  \n",
       "2      NaN  \n",
       "3      NaN  \n",
       "4      NaN  \n",
       "\n",
       "[5 rows x 29 columns]"
      ],
      "text/html": "<div>\n<style scoped>\n    .dataframe tbody tr th:only-of-type {\n        vertical-align: middle;\n    }\n\n    .dataframe tbody tr th {\n        vertical-align: top;\n    }\n\n    .dataframe thead th {\n        text-align: right;\n    }\n</style>\n<table border=\"1\" class=\"dataframe\">\n  <thead>\n    <tr style=\"text-align: right;\">\n      <th></th>\n      <th>civilians_name</th>\n      <th>civilians_age</th>\n      <th>civilians_gender</th>\n      <th>civilians_race</th>\n      <th>date</th>\n      <th>address</th>\n      <th>city</th>\n      <th>state</th>\n      <th>zip_code</th>\n      <th>county</th>\n      <th>...</th>\n      <th>source</th>\n      <th>wash_id</th>\n      <th>mpv_id</th>\n      <th>threat_level</th>\n      <th>fleeing</th>\n      <th>body_cam</th>\n      <th>alleged_weapon</th>\n      <th>geography</th>\n      <th>criminal_charges</th>\n      <th>off_duty</th>\n    </tr>\n  </thead>\n  <tbody>\n    <tr>\n      <th>0</th>\n      <td>Samuel H. Knapp</td>\n      <td>17.0</td>\n      <td>Male</td>\n      <td>European-American/White</td>\n      <td>2000-01-01 00:00:00</td>\n      <td>27898-27804 US-101</td>\n      <td>Willits</td>\n      <td>CA</td>\n      <td>95490.0</td>\n      <td>Mendocino</td>\n      <td>...</td>\n      <td>fatal</td>\n      <td>NaN</td>\n      <td>NaN</td>\n      <td>NaN</td>\n      <td>NaN</td>\n      <td>NaN</td>\n      <td>NaN</td>\n      <td>NaN</td>\n      <td>NaN</td>\n      <td>NaN</td>\n    </tr>\n    <tr>\n      <th>1</th>\n      <td>Mark A. Horton</td>\n      <td>21.0</td>\n      <td>Male</td>\n      <td>African-American/Black</td>\n      <td>2000-01-01 00:00:00</td>\n      <td>Davison Freeway</td>\n      <td>Detroit</td>\n      <td>MI</td>\n      <td>48203.0</td>\n      <td>Wayne</td>\n      <td>...</td>\n      <td>fatal</td>\n      <td>NaN</td>\n      <td>NaN</td>\n      <td>NaN</td>\n      <td>NaN</td>\n      <td>NaN</td>\n      <td>NaN</td>\n      <td>NaN</td>\n      <td>NaN</td>\n      <td>NaN</td>\n    </tr>\n    <tr>\n      <th>2</th>\n      <td>Phillip A. Blurbridge</td>\n      <td>19.0</td>\n      <td>Male</td>\n      <td>African-American/Black</td>\n      <td>2000-01-01 00:00:00</td>\n      <td>Davison Freeway</td>\n      <td>Detroit</td>\n      <td>MI</td>\n      <td>48203.0</td>\n      <td>Wayne</td>\n      <td>...</td>\n      <td>fatal</td>\n      <td>NaN</td>\n      <td>NaN</td>\n      <td>NaN</td>\n      <td>NaN</td>\n      <td>NaN</td>\n      <td>NaN</td>\n      <td>NaN</td>\n      <td>NaN</td>\n      <td>NaN</td>\n    </tr>\n    <tr>\n      <th>3</th>\n      <td>Mark Ortiz</td>\n      <td>23.0</td>\n      <td>Male</td>\n      <td>Hispanic/Latino</td>\n      <td>2000-01-01 00:00:00</td>\n      <td>600 W Cherry Ln</td>\n      <td>Carlsbad</td>\n      <td>NM</td>\n      <td>88220.0</td>\n      <td>Eddy</td>\n      <td>...</td>\n      <td>fatal</td>\n      <td>NaN</td>\n      <td>NaN</td>\n      <td>NaN</td>\n      <td>NaN</td>\n      <td>NaN</td>\n      <td>NaN</td>\n      <td>NaN</td>\n      <td>NaN</td>\n      <td>NaN</td>\n    </tr>\n    <tr>\n      <th>4</th>\n      <td>LaTanya Janelle McCoy</td>\n      <td>24.0</td>\n      <td>Female</td>\n      <td>African-American/Black</td>\n      <td>2000-01-02 00:00:00</td>\n      <td>5700 block Mack Road</td>\n      <td>Sacramento</td>\n      <td>CA</td>\n      <td>95823.0</td>\n      <td>Sacramento</td>\n      <td>...</td>\n      <td>fatal</td>\n      <td>NaN</td>\n      <td>NaN</td>\n      <td>NaN</td>\n      <td>NaN</td>\n      <td>NaN</td>\n      <td>NaN</td>\n      <td>NaN</td>\n      <td>NaN</td>\n      <td>NaN</td>\n    </tr>\n  </tbody>\n</table>\n<p>5 rows × 29 columns</p>\n</div>"
     },
     "metadata": {},
     "execution_count": 19
    }
   ],
   "source": [
    "df_fatal_MPV_wash.head()"
   ]
  },
  {
   "cell_type": "markdown",
   "metadata": {},
   "source": [
    "### Cleaning Cause of Death column"
   ]
  },
  {
   "cell_type": "code",
   "execution_count": 20,
   "metadata": {},
   "outputs": [],
   "source": [
    "causes = ['Beaten/Bludgeoned with instrument',\n",
    "          'shot',\n",
    "          'Gunshot, Taser',\n",
    "          'Gunshot, Police Dog',\n",
    "          'Gunshot, Taser, Beanbag Shotgun',\n",
    "          'shot and Tasered',\n",
    "          'Gunshot, Pepper Spray'\n",
    "          ]\n",
    "\n",
    "renaming_cause = ['Beaten',\n",
    "                  'Gunshot',\n",
    "                  'Gunshot',\n",
    "                  'Gunshot',\n",
    "                  'Gunshot',\n",
    "                  'Gunshot',\n",
    "                  'Gunshot',\n",
    "                  ]\n",
    "\n",
    "renaming_df_cleaned = {}\n",
    "for i in range(0, len(causes)):\n",
    "    renaming_df_cleaned[causes[i]] = renaming_cause[i]\n",
    "    \n",
    "df_fatal_MPV_wash.cause_of_death = df_fatal_MPV_wash.cause_of_death.replace(to_replace=renaming_df_cleaned)"
   ]
  },
  {
   "cell_type": "markdown",
   "metadata": {},
   "source": [
    "### Cleaning race columns"
   ]
  },
  {
   "cell_type": "code",
   "execution_count": 21,
   "metadata": {},
   "outputs": [],
   "source": [
    "race_values = ['Race unspecified',\n",
    "               'White',\n",
    "               'Black',\n",
    "               'Hispanic',\n",
    "               'Native American',\n",
    "               'Asian',\n",
    "               'Pacific Islander',\n",
    "               'A',\n",
    "               'W',\n",
    "               'H',\n",
    "               'B',\n",
    "               'O',\n",
    "               'N',\n",
    "               'Unknown race',\n",
    "               'Middle Eastern']\n",
    "\n",
    "renaming_races_values = [np.nan,\n",
    "                        'European-American/White',\n",
    "                        'African-American/Black',\n",
    "                        'Hispanic/Latino',\n",
    "                        'Native American/Alaskan',\n",
    "                        'Asian/Pacific Islander',\n",
    "                        'Asian/Pacific Islander',\n",
    "                        'Asian/Pacific Islander',\n",
    "                        'European-American/White',\n",
    "                        'Hispanic/Latino',\n",
    "                        'African-American/Black',\n",
    "                        'Other',\n",
    "                        'Native American/Alaskan',\n",
    "                        np.nan,\n",
    "                        'Asian/Pacific Islander']\n",
    "renaming_df_cleaned = {}\n",
    "for i in range(0, len(race_values)):\n",
    "    renaming_df_cleaned[race_values[i]] = renaming_races_values[i]\n",
    "    \n",
    "df_fatal_MPV_wash.civilians_race = df_fatal_MPV_wash.civilians_race.replace(to_replace=renaming_df_cleaned)"
   ]
  },
  {
   "cell_type": "markdown",
   "metadata": {},
   "source": [
    "### Cleaning Gender column"
   ]
  },
  {
   "cell_type": "code",
   "execution_count": 22,
   "metadata": {},
   "outputs": [],
   "source": [
    "gender_values = ['Unknown',\n",
    "                 'M',\n",
    "                 'F']\n",
    "renaming_gender = [np.nan,\n",
    "                 'Male',\n",
    "                 'Female']\n",
    "renaming_df_cleaned = {}\n",
    "\n",
    "for i in range(0, len(gender_values)):\n",
    "    renaming_df_cleaned[gender_values[i]] = renaming_gender[i]\n",
    "    \n",
    "df_fatal_MPV_wash.civilians_gender = df_fatal_MPV_wash.civilians_gender.replace(to_replace=renaming_df_cleaned)"
   ]
  },
  {
   "cell_type": "markdown",
   "metadata": {},
   "source": [
    "### Cleaning mental illness column"
   ]
  },
  {
   "cell_type": "code",
   "execution_count": 23,
   "metadata": {},
   "outputs": [],
   "source": [
    "mental_values = ['Unknown',\n",
    "                 'Unkown',\n",
    "                 'unknown',\n",
    "                 True,\n",
    "                 False]\n",
    "\n",
    "renaming_mental = [np.nan,\n",
    "                   np.nan,\n",
    "                   np.nan,\n",
    "                   'Yes',\n",
    "                   'No']\n",
    "renaming_df_cleaned = {}\n",
    "\n",
    "for i in range(0, len(mental_values)):\n",
    "    renaming_df_cleaned[mental_values[i]] = renaming_mental[i]\n",
    "    \n",
    "df_fatal_MPV_wash.mental_illness = df_fatal_MPV_wash.mental_illness.replace(to_replace=renaming_df_cleaned)"
   ]
  },
  {
   "cell_type": "markdown",
   "metadata": {},
   "source": [
    "### Cleaning body cam column"
   ]
  },
  {
   "cell_type": "code",
   "execution_count": 24,
   "metadata": {},
   "outputs": [],
   "source": [
    "body_values = ['no',\n",
    "                False]\n",
    "\n",
    "renaming_body = ['No',\n",
    "                 'No']\n",
    "renaming_df_cleaned = {}\n",
    "\n",
    "for i in range(0, len(body_values)):\n",
    "    renaming_df_cleaned[body_values[i]] = renaming_body[i]\n",
    "    \n",
    "df_fatal_MPV_wash.body_cam = df_fatal_MPV_wash.body_cam.replace(to_replace=renaming_df_cleaned)"
   ]
  },
  {
   "cell_type": "markdown",
   "metadata": {},
   "source": [
    "### Cleaning Fleeing columns"
   ]
  },
  {
   "cell_type": "code",
   "execution_count": 25,
   "metadata": {},
   "outputs": [],
   "source": [
    "flee_values = ['not fleeing',\n",
    "               'car']\n",
    "\n",
    "renaming_flee = ['Not fleeing',\n",
    "                 'Car']\n",
    "renaming_df_cleaned = {}\n",
    "\n",
    "for i in range(0, len(flee_values)):\n",
    "    renaming_df_cleaned[flee_values[i]] = renaming_flee[i]\n",
    "    \n",
    "df_fatal_MPV_wash.fleeing = df_fatal_MPV_wash.fleeing.replace(to_replace=renaming_df_cleaned)"
   ]
  },
  {
   "cell_type": "markdown",
   "metadata": {},
   "source": [
    "### Cleaning Use of Force columns"
   ]
  },
  {
   "cell_type": "code",
   "execution_count": 26,
   "metadata": {},
   "outputs": [],
   "source": [
    "force_values = ['Vehicle/Pursuit',\n",
    "               'Np',\n",
    "               'Undetermined',\n",
    "               'Unknown',\n",
    "               'Intentional use of deadly force']\n",
    "\n",
    "renaming_force = ['Pursuit',\n",
    "                 np.nan,\n",
    "                 np.nan,\n",
    "                 np.nan,\n",
    "                 'Intentional use of force']\n",
    "renaming_df_cleaned = {}\n",
    "\n",
    "for i in range(0, len(force_values)):\n",
    "    renaming_df_cleaned[force_values[i]] = renaming_force[i]\n",
    "    \n",
    "df_fatal_MPV_wash.use_of_force = df_fatal_MPV_wash.use_of_force.replace(to_replace=renaming_df_cleaned)"
   ]
  },
  {
   "cell_type": "markdown",
   "metadata": {},
   "source": [
    "### Cleaning Alleged Weapon column"
   ]
  },
  {
   "cell_type": "code",
   "execution_count": 27,
   "metadata": {},
   "outputs": [],
   "source": [
    "alleged_values = ['no object',\n",
    "               'Ax',\n",
    "               'carjack',\n",
    "               'metal stick',\n",
    "               'metal pipe',\n",
    "               'metal pole'\n",
    "               'Taser']\n",
    "\n",
    "renaming_alleged = ['unarmed',\n",
    "                 'ax',\n",
    "                 'vehicle',\n",
    "                 'metal object',\n",
    "                 'metal object',\n",
    "                 'metal object',\n",
    "                 'taser']\n",
    "\n",
    "renaming_df_cleaned = {}\n",
    "\n",
    "for i in range(0, len(alleged_values)):\n",
    "    renaming_df_cleaned[alleged_values[i]] = renaming_alleged[i]\n",
    "    \n",
    "df_fatal_MPV_wash.alleged_weapon = df_fatal_MPV_wash.alleged_weapon.replace(to_replace=renaming_df_cleaned)"
   ]
  },
  {
   "source": [
    "### Cleaning Off Duty "
   ],
   "cell_type": "markdown",
   "metadata": {}
  },
  {
   "cell_type": "code",
   "execution_count": null,
   "metadata": {},
   "outputs": [],
   "source": [
    "off_values = ['Off-Duty']\n",
    "\n",
    "renaming_off = ['off-duty']\n",
    "\n",
    "renaming_df_cleaned = {}\n",
    "\n",
    "for i in range(0, len(off_values)):\n",
    "    renaming_df_cleaned[off_values[i]] = renaming_off[i]\n",
    "    \n",
    "df_fatal_MPV_wash.off_duty = df_fatal_MPV_wash.off_duty.replace(to_replace=renaming_df_cleaned)"
   ]
  },
  {
   "cell_type": "markdown",
   "metadata": {},
   "source": [
    "## Adding columns of interest"
   ]
  },
  {
   "cell_type": "code",
   "execution_count": 28,
   "metadata": {},
   "outputs": [],
   "source": [
    "df_fatal_MPV_wash['date'] =  pd.to_datetime(df_fatal_MPV_wash['date'])\n",
    "\n",
    "df_fatal_MPV_wash['year'] = df_fatal_MPV_wash.date.dt.to_period('Y')\n",
    "df_fatal_MPV_wash['month'] = df_fatal_MPV_wash.date.dt.to_period('M')\n",
    "df_fatal_MPV_wash['day_of_week'] = pd.to_datetime(df_fatal_MPV_wash['date']).dt.day_name() \n",
    "df_fatal_MPV_wash['civilians_age_group'] = pd.cut(df_fatal_MPV_wash.civilians_age, [0, 20, 40, 60, 80])\n",
    "\n",
    "df_fatal_MPV_wash['year']=df_fatal_MPV_wash['year'].astype(str).astype(int)"
   ]
  },
  {
   "cell_type": "code",
   "execution_count": 29,
   "metadata": {},
   "outputs": [
    {
     "output_type": "execute_result",
     "data": {
      "text/plain": [
       "Index(['civilians_name', 'civilians_age', 'civilians_gender', 'civilians_race',\n",
       "       'date', 'address', 'city', 'state', 'zip_code', 'county', 'latitude',\n",
       "       'longitude', 'agency', 'cause_of_death', 'use_of_force',\n",
       "       'mental_illness', 'year', 'description', 'fatal_id', 'source',\n",
       "       'wash_id', 'mpv_id', 'threat_level', 'fleeing', 'body_cam',\n",
       "       'alleged_weapon', 'geography', 'criminal_charges', 'off_duty', 'month',\n",
       "       'day_of_week', 'civilians_age_group'],\n",
       "      dtype='object')"
      ]
     },
     "metadata": {},
     "execution_count": 29
    }
   ],
   "source": [
    "df_fatal_MPV_wash.columns"
   ]
  },
  {
   "cell_type": "code",
   "execution_count": 36,
   "metadata": {},
   "outputs": [],
   "source": [
    "df_fatal_MPV_wash.to_csv('C:/Users/Johnny/Documents/Classes/DS4A/Project/Datasets/master_df.csv')"
   ]
  },
  {
   "cell_type": "markdown",
   "metadata": {},
   "source": [
    "# Police Deaths"
   ]
  },
  {
   "cell_type": "markdown",
   "metadata": {},
   "source": [
    "## Police Deaths Officer Memorial Database"
   ]
  },
  {
   "cell_type": "code",
   "execution_count": 3,
   "metadata": {},
   "outputs": [
    {
     "output_type": "execute_result",
     "data": {
      "text/plain": [
       "                                 police_name                             dept  \\\n",
       "0          Deputy Sheriff Ernest Martin Hull   Greene County Sheriff's Office   \n",
       "1        Patrol Officer James Clinton Bryant        Broxton Police Department   \n",
       "2  Staff Sergeant Clyde Almond \"Tub\" Merritt   Coffee County Sheriff's Office   \n",
       "3                Inspector Kirk B. Brookbush  San Francisco Police Department   \n",
       "4     Police Officer James Francis Dougherty  San Francisco Police Department   \n",
       "\n",
       "  state              cause   month_day  year day_of_week     K9  \n",
       "0    NC   Automobile crash   January 2  2000      Sunday  False  \n",
       "1    GA            Gunfire   January 3  2000      Monday  False  \n",
       "2    GA            Gunfire   January 3  2000      Monday  False  \n",
       "3    CA  Aircraft accident  January 11  2000     Tuesday  False  \n",
       "4    CA  Aircraft accident  January 11  2000     Tuesday  False  "
      ],
      "text/html": "<div>\n<style scoped>\n    .dataframe tbody tr th:only-of-type {\n        vertical-align: middle;\n    }\n\n    .dataframe tbody tr th {\n        vertical-align: top;\n    }\n\n    .dataframe thead th {\n        text-align: right;\n    }\n</style>\n<table border=\"1\" class=\"dataframe\">\n  <thead>\n    <tr style=\"text-align: right;\">\n      <th></th>\n      <th>police_name</th>\n      <th>dept</th>\n      <th>state</th>\n      <th>cause</th>\n      <th>month_day</th>\n      <th>year</th>\n      <th>day_of_week</th>\n      <th>K9</th>\n    </tr>\n  </thead>\n  <tbody>\n    <tr>\n      <th>0</th>\n      <td>Deputy Sheriff Ernest Martin Hull</td>\n      <td>Greene County Sheriff's Office</td>\n      <td>NC</td>\n      <td>Automobile crash</td>\n      <td>January 2</td>\n      <td>2000</td>\n      <td>Sunday</td>\n      <td>False</td>\n    </tr>\n    <tr>\n      <th>1</th>\n      <td>Patrol Officer James Clinton Bryant</td>\n      <td>Broxton Police Department</td>\n      <td>GA</td>\n      <td>Gunfire</td>\n      <td>January 3</td>\n      <td>2000</td>\n      <td>Monday</td>\n      <td>False</td>\n    </tr>\n    <tr>\n      <th>2</th>\n      <td>Staff Sergeant Clyde Almond \"Tub\" Merritt</td>\n      <td>Coffee County Sheriff's Office</td>\n      <td>GA</td>\n      <td>Gunfire</td>\n      <td>January 3</td>\n      <td>2000</td>\n      <td>Monday</td>\n      <td>False</td>\n    </tr>\n    <tr>\n      <th>3</th>\n      <td>Inspector Kirk B. Brookbush</td>\n      <td>San Francisco Police Department</td>\n      <td>CA</td>\n      <td>Aircraft accident</td>\n      <td>January 11</td>\n      <td>2000</td>\n      <td>Tuesday</td>\n      <td>False</td>\n    </tr>\n    <tr>\n      <th>4</th>\n      <td>Police Officer James Francis Dougherty</td>\n      <td>San Francisco Police Department</td>\n      <td>CA</td>\n      <td>Aircraft accident</td>\n      <td>January 11</td>\n      <td>2000</td>\n      <td>Tuesday</td>\n      <td>False</td>\n    </tr>\n  </tbody>\n</table>\n</div>"
     },
     "metadata": {},
     "execution_count": 3
    }
   ],
   "source": [
    "df_omdb = pd.read_csv('C:/Users/Johnny/Documents/Classes/DS4A/Project/Datasets/police_omdb.csv')\n",
    "\n",
    "df_omdb_copy = df_omdb.copy()\n",
    "\n",
    "df_omdb.head()"
   ]
  },
  {
   "cell_type": "code",
   "execution_count": 4,
   "metadata": {},
   "outputs": [
    {
     "output_type": "execute_result",
     "data": {
      "text/plain": [
       "(3456, 8)"
      ]
     },
     "metadata": {},
     "execution_count": 4
    }
   ],
   "source": [
    "df_omdb.shape"
   ]
  },
  {
   "cell_type": "code",
   "execution_count": 7,
   "metadata": {},
   "outputs": [],
   "source": [
    "df_omdb.state = df_omdb.state.replace('Tobacco', 'US')\n",
    "df_omdb.state = df_omdb.state.replace('Fisheries and Parks', 'US')"
   ]
  },
  {
   "cell_type": "code",
   "execution_count": 5,
   "metadata": {},
   "outputs": [],
   "source": [
    "df_omdb.state = df_omdb.state.replace('RR','CA')\n",
    "df_omdb.state = df_omdb.state.replace('Parks','KS')"
   ]
  },
  {
   "cell_type": "code",
   "execution_count": 22,
   "metadata": {},
   "outputs": [],
   "source": [
    "df_omdb = df_omdb.drop('Unnamed: 0', axis=1)"
   ]
  },
  {
   "cell_type": "code",
   "execution_count": 23,
   "metadata": {},
   "outputs": [],
   "source": [
    "df_omdb['K9'] = df_omdb.police_name.str.contains('K9')\n",
    "\n",
    "df_omdb = df_omdb[~df_omdb.cause.str.contains('COVID19' or '9/11 related cancer')]\n",
    "df_omdb = df_omdb[df_omdb['K9'] == False]\n",
    "df_omdb = df_omdb[~df_omdb.cause.str.contains('Terrorist attack')]\n",
    "\n",
    "df_omdb = df_omdb.reset_index(drop=True)"
   ]
  },
  {
   "cell_type": "code",
   "execution_count": 6,
   "metadata": {},
   "outputs": [
    {
     "output_type": "execute_result",
     "data": {
      "text/plain": [
       "                                    police_name  \\\n",
       "0             Deputy Sheriff Ernest Martin Hull   \n",
       "1           Patrol Officer James Clinton Bryant   \n",
       "2     Staff Sergeant Clyde Almond \"Tub\" Merritt   \n",
       "3                   Inspector Kirk B. Brookbush   \n",
       "4        Police Officer James Francis Dougherty   \n",
       "...                                         ...   \n",
       "3451             Patrolman Cassie Marie Johnson   \n",
       "3452                   Sergeant Herschel Turner   \n",
       "3453              Trooper Jennifer M. Czarnecki   \n",
       "3454         Police Officer Tyler Avery Herndon   \n",
       "3455               Police Officer Jason Shuping   \n",
       "\n",
       "                                 dept state                cause    month_day  \\\n",
       "0      Greene County Sheriff's Office    NC     Automobile crash    January 2   \n",
       "1           Broxton Police Department    GA              Gunfire    January 3   \n",
       "2      Coffee County Sheriff's Office    GA              Gunfire    January 3   \n",
       "3     San Francisco Police Department    CA    Aircraft accident   January 11   \n",
       "4     San Francisco Police Department    CA    Aircraft accident   January 11   \n",
       "...                               ...   ...                  ...          ...   \n",
       "3451     Charleston Police Department    WV              Gunfire   December 3   \n",
       "3452   Moline Acres Police Department    MO    Struck by vehicle   December 5   \n",
       "3453            New York State Police    NY  9/11 related cancer   December 5   \n",
       "3454    Mount Holly Police Department    NC              Gunfire  December 11   \n",
       "3455        Concord Police Department    NC              Gunfire  December 16   \n",
       "\n",
       "      year day_of_week     K9  \n",
       "0     2000      Sunday  False  \n",
       "1     2000      Monday  False  \n",
       "2     2000      Monday  False  \n",
       "3     2000     Tuesday  False  \n",
       "4     2000     Tuesday  False  \n",
       "...    ...         ...    ...  \n",
       "3451  2020    Thursday  False  \n",
       "3452  2020    Saturday  False  \n",
       "3453  2020    Saturday  False  \n",
       "3454  2020      Friday  False  \n",
       "3455  2020   Wednesday  False  \n",
       "\n",
       "[3456 rows x 8 columns]"
      ],
      "text/html": "<div>\n<style scoped>\n    .dataframe tbody tr th:only-of-type {\n        vertical-align: middle;\n    }\n\n    .dataframe tbody tr th {\n        vertical-align: top;\n    }\n\n    .dataframe thead th {\n        text-align: right;\n    }\n</style>\n<table border=\"1\" class=\"dataframe\">\n  <thead>\n    <tr style=\"text-align: right;\">\n      <th></th>\n      <th>police_name</th>\n      <th>dept</th>\n      <th>state</th>\n      <th>cause</th>\n      <th>month_day</th>\n      <th>year</th>\n      <th>day_of_week</th>\n      <th>K9</th>\n    </tr>\n  </thead>\n  <tbody>\n    <tr>\n      <th>0</th>\n      <td>Deputy Sheriff Ernest Martin Hull</td>\n      <td>Greene County Sheriff's Office</td>\n      <td>NC</td>\n      <td>Automobile crash</td>\n      <td>January 2</td>\n      <td>2000</td>\n      <td>Sunday</td>\n      <td>False</td>\n    </tr>\n    <tr>\n      <th>1</th>\n      <td>Patrol Officer James Clinton Bryant</td>\n      <td>Broxton Police Department</td>\n      <td>GA</td>\n      <td>Gunfire</td>\n      <td>January 3</td>\n      <td>2000</td>\n      <td>Monday</td>\n      <td>False</td>\n    </tr>\n    <tr>\n      <th>2</th>\n      <td>Staff Sergeant Clyde Almond \"Tub\" Merritt</td>\n      <td>Coffee County Sheriff's Office</td>\n      <td>GA</td>\n      <td>Gunfire</td>\n      <td>January 3</td>\n      <td>2000</td>\n      <td>Monday</td>\n      <td>False</td>\n    </tr>\n    <tr>\n      <th>3</th>\n      <td>Inspector Kirk B. Brookbush</td>\n      <td>San Francisco Police Department</td>\n      <td>CA</td>\n      <td>Aircraft accident</td>\n      <td>January 11</td>\n      <td>2000</td>\n      <td>Tuesday</td>\n      <td>False</td>\n    </tr>\n    <tr>\n      <th>4</th>\n      <td>Police Officer James Francis Dougherty</td>\n      <td>San Francisco Police Department</td>\n      <td>CA</td>\n      <td>Aircraft accident</td>\n      <td>January 11</td>\n      <td>2000</td>\n      <td>Tuesday</td>\n      <td>False</td>\n    </tr>\n    <tr>\n      <th>...</th>\n      <td>...</td>\n      <td>...</td>\n      <td>...</td>\n      <td>...</td>\n      <td>...</td>\n      <td>...</td>\n      <td>...</td>\n      <td>...</td>\n    </tr>\n    <tr>\n      <th>3451</th>\n      <td>Patrolman Cassie Marie Johnson</td>\n      <td>Charleston Police Department</td>\n      <td>WV</td>\n      <td>Gunfire</td>\n      <td>December 3</td>\n      <td>2020</td>\n      <td>Thursday</td>\n      <td>False</td>\n    </tr>\n    <tr>\n      <th>3452</th>\n      <td>Sergeant Herschel Turner</td>\n      <td>Moline Acres Police Department</td>\n      <td>MO</td>\n      <td>Struck by vehicle</td>\n      <td>December 5</td>\n      <td>2020</td>\n      <td>Saturday</td>\n      <td>False</td>\n    </tr>\n    <tr>\n      <th>3453</th>\n      <td>Trooper Jennifer M. Czarnecki</td>\n      <td>New York State Police</td>\n      <td>NY</td>\n      <td>9/11 related cancer</td>\n      <td>December 5</td>\n      <td>2020</td>\n      <td>Saturday</td>\n      <td>False</td>\n    </tr>\n    <tr>\n      <th>3454</th>\n      <td>Police Officer Tyler Avery Herndon</td>\n      <td>Mount Holly Police Department</td>\n      <td>NC</td>\n      <td>Gunfire</td>\n      <td>December 11</td>\n      <td>2020</td>\n      <td>Friday</td>\n      <td>False</td>\n    </tr>\n    <tr>\n      <th>3455</th>\n      <td>Police Officer Jason Shuping</td>\n      <td>Concord Police Department</td>\n      <td>NC</td>\n      <td>Gunfire</td>\n      <td>December 16</td>\n      <td>2020</td>\n      <td>Wednesday</td>\n      <td>False</td>\n    </tr>\n  </tbody>\n</table>\n<p>3456 rows × 8 columns</p>\n</div>"
     },
     "metadata": {},
     "execution_count": 6
    }
   ],
   "source": [
    "df_omdb"
   ]
  },
  {
   "cell_type": "code",
   "execution_count": 7,
   "metadata": {},
   "outputs": [],
   "source": [
    "df_omdb.to_csv('C:/Users/Johnny/Documents/Classes/DS4A/Project/Datasets/police_omdb.csv',index=False)"
   ]
  },
  {
   "cell_type": "code",
   "execution_count": null,
   "metadata": {},
   "outputs": [],
   "source": []
  }
 ],
 "metadata": {
  "kernelspec": {
   "display_name": "Python 3",
   "language": "python",
   "name": "python3"
  },
  "language_info": {
   "codemirror_mode": {
    "name": "ipython",
    "version": 3
   },
   "file_extension": ".py",
   "mimetype": "text/x-python",
   "name": "python",
   "nbconvert_exporter": "python",
   "pygments_lexer": "ipython3",
   "version": "3.7.3-final"
  }
 },
 "nbformat": 4,
 "nbformat_minor": 2
}